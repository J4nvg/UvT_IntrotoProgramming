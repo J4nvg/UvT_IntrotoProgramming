{
 "cells": [
  {
   "cell_type": "markdown",
   "metadata": {},
   "source": [
    "## What you learned"
   ]
  },
  {
   "cell_type": "markdown",
   "metadata": {},
   "source": [
    "In this chapter, you learned about:\n",
    "\n",
    "- What functions are\n",
    "- Function names\n",
    "- Function parameters\n",
    "- Function return values\n",
    "- Details of type casting with `float()`, `int()`, and `str()`\n",
    "- Basic calculation functions `abs()`, `max()`, `min()`, `pow()`, and `round()`\n",
    "- `len()`\n",
    "- `input()`\n",
    "- Details of the `print()` function\n",
    "- String formatting using `format()`\n",
    "- Formatting string literals\n",
    "- What modules are\n",
    "- The `math` module functions `exp()`, `log()`, `log10()`, and `sqrt()`\n",
    "- The `random` module functions `random()`, `randint()`, and `seed()`\n",
    "- The `pcinput` module functions `getInteger()`, `getFloat()`, `getString()`, and `getLetter()`"
   ]
  },
  {
   "cell_type": "markdown",
   "metadata": {},
   "source": [
    "-------"
   ]
  },
  {
   "cell_type": "markdown",
   "metadata": {},
   "source": [
    "## Exercises"
   ]
  },
  {
   "cell_type": "markdown",
   "metadata": {},
   "source": [
    "### Exercise 5.1"
   ]
  },
  {
   "cell_type": "markdown",
   "metadata": {},
   "source": [
    "Ask the user to enter a string. Then print the length of that string. Use the `input()` function rather that the `getString()` function from `pcinput`, as the `getString()` function removes leading and trailing spaces."
   ]
  },
  {
   "cell_type": "code",
   "execution_count": 8,
   "metadata": {
    "tags": []
   },
   "outputs": [
    {
     "name": "stdin",
     "output_type": "stream",
     "text": [
      "Please enter a string:  string\n"
     ]
    },
    {
     "name": "stdout",
     "output_type": "stream",
     "text": [
      "6\n"
     ]
    }
   ],
   "source": [
    "# String length test.\n",
    "string = input(\"Please enter a string: \")\n",
    "length = len(string)\n",
    "print(length)"
   ]
  },
  {
   "cell_type": "markdown",
   "metadata": {},
   "source": [
    "### Exercise 5.2"
   ]
  },
  {
   "cell_type": "markdown",
   "metadata": {},
   "source": [
    "The Pythagorean theorem states that the of a right triangle, the square of the length of the diagonal side is equal to the sum of the squares of the lengths of the other two sides (or `a**2 + b**2` equals `c**2`). Write a program that asks the user for the lengths of the two sides that meet at a right angle, then calculate the length of the third side, and display it in a nicely formatted way. You may ignore the fact that the user can enter negative or zero lengths for the sides. "
   ]
  },
  {
   "cell_type": "code",
   "execution_count": 9,
   "metadata": {
    "tags": []
   },
   "outputs": [
    {
     "name": "stdin",
     "output_type": "stream",
     "text": [
      "Please enter length one:  1\n",
      "Please enter length two:  2\n"
     ]
    },
    {
     "name": "stdout",
     "output_type": "stream",
     "text": [
      "The length of the last side is: 2.24\n"
     ]
    }
   ],
   "source": [
    "### Pythagorean theorem.\n",
    "import math\n",
    "from pcinput import getString, getFloat\n",
    "A = getFloat(\"Please enter length one: \")\n",
    "B = getFloat(\"Please enter length two: \")\n",
    "c = math.sqrt((A**2 + B**2))\n",
    "print(\"The length of the last side is: {:.2f}\".format(c))\n"
   ]
  },
  {
   "cell_type": "markdown",
   "metadata": {},
   "source": [
    "### Exercise 5.3"
   ]
  },
  {
   "cell_type": "markdown",
   "metadata": {},
   "source": [
    "Ask the user to enter three numbers. Then print the largest, the smallest, and their average, rounded to 2 decimals."
   ]
  },
  {
   "cell_type": "code",
   "execution_count": 10,
   "metadata": {
    "tags": []
   },
   "outputs": [
    {
     "name": "stdin",
     "output_type": "stream",
     "text": [
      "Please enter the first number:  1\n",
      "Please enter the seccond number:  2\n",
      "Please enter the third number:  3\n"
     ]
    },
    {
     "name": "stdout",
     "output_type": "stream",
     "text": [
      "Largest: 3.00\n",
      "Smallest: 1.00\n",
      "Average: 2.00\n"
     ]
    }
   ],
   "source": [
    "# Processing three numbers.\n",
    "from pcinput import getFloat\n",
    "one = getFloat(\"Please enter the first number: \")\n",
    "two = getFloat(\"Please enter the seccond number: \")\n",
    "three = getFloat(\"Please enter the third number: \")\n",
    "largest = max(one,two,three)\n",
    "smallest = min(one,two,three)\n",
    "average = (one + two + three) / 3\n",
    "print(\"Largest: {:.2f}\".format(largest))\n",
    "print(\"Smallest: {:.2f}\".format(smallest))\n",
    "print(\"Average: {:.2f}\".format(average))\n",
    "\n"
   ]
  },
  {
   "cell_type": "markdown",
   "metadata": {},
   "source": [
    "### Exercise 5.4"
   ]
  },
  {
   "cell_type": "markdown",
   "metadata": {},
   "source": [
    "Calculate the value of `e` to the power of `-1`, `0`, `1`, `2`, and `3`, and display the results, with 5 decimals, in a nicely formatted manner."
   ]
  },
  {
   "cell_type": "code",
   "execution_count": 2,
   "metadata": {
    "tags": []
   },
   "outputs": [
    {
     "name": "stdout",
     "output_type": "stream",
     "text": [
      "     2.72 to the power of    -1 is      0.37\n",
      "     2.72 to the power of     0 is      1.00\n",
      "     2.72 to the power of     1 is      2.72\n",
      "     2.72 to the power of     2 is      7.39\n",
      "     2.72 to the power of     3 is     20.09\n"
     ]
    }
   ],
   "source": [
    "# Some powers of `e`.\n",
    "import math\n",
    "e = 2.72\n",
    "s = \"{:>9.2f} to the power of {:>5d} is {:>9.2f}\"\n",
    "print( s.format( e, -1, math.pow(math.e,-1) ) )\n",
    "print( s.format( e, 0, math.pow(math.e,0) ) )\n",
    "print( s.format( e, 1, math.pow(math.e,1) ) )\n",
    "print( s.format( e, 2, math.pow(math.e,2) ) )\n",
    "print( s.format( e, 3, math.pow(math.e,3) ) )"
   ]
  },
  {
   "cell_type": "markdown",
   "metadata": {},
   "source": [
    "### Exercise 5.5"
   ]
  },
  {
   "cell_type": "markdown",
   "metadata": {},
   "source": [
    "Suppose you want to generate a random integer between 1 and 10 (1 and 10 both included), but from the `random` module you only have the `random()` function available. How do you do that?"
   ]
  },
  {
   "cell_type": "code",
   "execution_count": 14,
   "metadata": {
    "tags": []
   },
   "outputs": [
    {
     "name": "stdout",
     "output_type": "stream",
     "text": [
      "8\n"
     ]
    }
   ],
   "source": [
    "# Generate a random integer using only random()\n",
    "from random import random\n",
    "rand = random()*10\n",
    "intRand = int(rand+1)\n",
    "print(intRand)\n",
    "\n",
    "\n",
    "\n"
   ]
  },
  {
   "cell_type": "markdown",
   "metadata": {},
   "source": [
    "---"
   ]
  },
  {
   "cell_type": "markdown",
   "metadata": {},
   "source": [
    "## Python 2"
   ]
  },
  {
   "cell_type": "markdown",
   "metadata": {},
   "source": [
    "For a while, formatting strings worked completely different in Python 2. The `format()` method was introduced at some point in Python 2, but most Python 2 program use a C++-like approach to string formatting, using the `print()` function. These older Python 2 approaches are no longer supported in Python 3."
   ]
  },
  {
   "cell_type": "markdown",
   "metadata": {},
   "source": [
    "---"
   ]
  },
  {
   "cell_type": "markdown",
   "metadata": {},
   "source": [
    "End of Chapter 5. Version 2.0."
   ]
  }
 ],
 "metadata": {
  "kernelspec": {
   "display_name": "Python 3 (ipykernel)",
   "language": "python",
   "name": "python3"
  },
  "language_info": {
   "codemirror_mode": {
    "name": "ipython",
    "version": 3
   },
   "file_extension": ".py",
   "mimetype": "text/x-python",
   "name": "python",
   "nbconvert_exporter": "python",
   "pygments_lexer": "ipython3",
   "version": "3.11.4"
  }
 },
 "nbformat": 4,
 "nbformat_minor": 4
}
