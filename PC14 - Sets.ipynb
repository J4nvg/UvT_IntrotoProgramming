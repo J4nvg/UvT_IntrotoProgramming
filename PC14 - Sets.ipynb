{
 "cells": [
  {
   "cell_type": "markdown",
   "metadata": {},
   "source": [
    "# 14 - Sets:"
   ]
  },
  {
   "cell_type": "markdown",
   "metadata": {},
   "source": [
    "### Practice"
   ]
  },
  {
   "cell_type": "markdown",
   "metadata": {},
   "source": [
    "**Exercise**: There is also a set method `symmetric_difference()` which returns a set that contains all the elements that are in the union of two sets, except those that are found in both sets. For example, if set 1 contains `A`, `B`, and `C`, and set 2 contains `B`, `C`, and `D`, the symmetric difference of sets 1 and 2 contains `A` and `D`. Can you implement the `symmetric_difference()` method by using only some of the methods found above?"
   ]
  },
  {
   "cell_type": "code",
   "execution_count": 19,
   "metadata": {
    "tags": []
   },
   "outputs": [
    {
     "name": "stdout",
     "output_type": "stream",
     "text": [
      "{'apple', 'durian'}\n"
     ]
    }
   ],
   "source": [
    "# Symmetric difference.\n",
    "fruit1 = { \"apple\", \"banana\", \"cherry\" }\n",
    "fruit2 = { \"banana\", \"cherry\", \"durian\" }\n",
    "\n",
    "def symmetricDif(a,b):\n",
    "    union = a | b\n",
    "    for item in (a&b):\n",
    "        union.remove(item)\n",
    "    return(union)\n",
    "\n",
    "print(symmetricDif(fruit1,fruit2))"
   ]
  },
  {
   "cell_type": "markdown",
   "metadata": {},
   "source": [
    "**Exercise**: In the chapter on iterations you were asked to write code that determines all the letters that two words have in common, whereby each letter should only be reported once. Using sets, you can do this very efficiently. Please write the appropriate code."
   ]
  },
  {
   "cell_type": "code",
   "execution_count": 21,
   "metadata": {
    "tags": []
   },
   "outputs": [
    {
     "name": "stdout",
     "output_type": "stream",
     "text": [
      "{'b', 'r', 'e', 'y'}\n"
     ]
    }
   ],
   "source": [
    "# Shared letters.\n",
    "word1 = \"strawberry\"\n",
    "word2 = \"blueberry\"\n",
    "print((set(word1)&set(word2)))"
   ]
  },
  {
   "cell_type": "markdown",
   "metadata": {},
   "source": [
    "**Exercise**: As a variant on the previous exercise, can you also do it for the letters they do not have in common?"
   ]
  },
  {
   "cell_type": "code",
   "execution_count": 27,
   "metadata": {
    "tags": []
   },
   "outputs": [
    {
     "name": "stdout",
     "output_type": "stream",
     "text": [
      "{'a', 's', 'u', 't', 'w', 'l'}\n"
     ]
    }
   ],
   "source": [
    "# Letter differences.\n",
    "word1 = \"strawberry\"\n",
    "word2 = \"blueberry\"\n",
    "\n",
    "print(((set(word1)-set(word2))|(set(word2)-set(word1))))"
   ]
  },
  {
   "cell_type": "markdown",
   "metadata": {},
   "source": [
    "---"
   ]
  },
  {
   "cell_type": "markdown",
   "metadata": {},
   "source": [
    "## Frozensets"
   ]
  },
  {
   "cell_type": "markdown",
   "metadata": {},
   "source": [
    "Python supports a variant on the set type, which is the `frozenset`. You create a `frozenset` using the `frozenset()` function. The elements of a frozenset, once assigned, cannot be changed. You therefore have to create the frozenset immediately when you call the `frozenset()` function, because it is impossible to add or remove elements later. I.e., frozensets are *immutable*.\n",
    "\n",
    "All the regular set methods work for frozensets, except for those that try to change the set. Trying to use such a method for a frozenset will lead to a syntax error."
   ]
  },
  {
   "cell_type": "code",
   "execution_count": 28,
   "metadata": {
    "tags": []
   },
   "outputs": [
    {
     "name": "stdout",
     "output_type": "stream",
     "text": [
      "frozenset({'cherry', 'apple', 'durian', 'banana'})\n"
     ]
    }
   ],
   "source": [
    "fruit1 = frozenset( [\"apple\", \"banana\", \"cherry\"] )\n",
    "fruit2 = frozenset( [\"banana\", \"cherry\", \"durian\"] )\n",
    "\n",
    "print( fruit1.union( fruit2 ) )"
   ]
  },
  {
   "cell_type": "markdown",
   "metadata": {},
   "source": [
    "---"
   ]
  },
  {
   "cell_type": "markdown",
   "metadata": {},
   "source": [
    "## What you learned"
   ]
  },
  {
   "cell_type": "markdown",
   "metadata": {},
   "source": [
    "In this chapter, you learned about:\n",
    "\n",
    "- Sets\n",
    "- Set methods `add()`, `update()`, `remove()`, `discard()`, `clear()`, `pop()`, `copy()`, `union()`, `intersection()`, `difference()`, `isdisjoint()`, `issubset()`, and `issuperset()`\n",
    "- Frozensets"
   ]
  },
  {
   "cell_type": "markdown",
   "metadata": {},
   "source": [
    "---"
   ]
  },
  {
   "cell_type": "markdown",
   "metadata": {},
   "source": [
    "## Excercises"
   ]
  },
  {
   "cell_type": "markdown",
   "metadata": {},
   "source": [
    "### Exercise 14.1"
   ]
  },
  {
   "cell_type": "markdown",
   "metadata": {},
   "source": [
    "A famous syllogism says: *All men are mortal. Socrates is a man. Therefore Socrates is mortal.* In the code block below you see some sets. The first is the set of all things (I know a few are missing, but for the sake of argument). The second is the set of all men (assuming that the first set indeed contains all things). The third set contains everything that is mortal (again, assuming...). Show that indeed (a) all men are mortal, (b) Socrates is a man, and (c) Socrates is mortal. Also shows that (d) there are mortal things that are not men, and (e) there are things that are not mortal."
   ]
  },
  {
   "cell_type": "code",
   "execution_count": 41,
   "metadata": {
    "tags": []
   },
   "outputs": [
    {
     "name": "stdout",
     "output_type": "stream",
     "text": [
      "A. Check if All mortal men is the same as all men: True...\n",
      "B. Check if Socrates appears in men: True...\n",
      "C. Check if Socrates appears in Mortal: True...\n",
      "D. Check what is mortal but not men: {'Cat', 'Dog'}...\n",
      "E. Things that are not mortal: {'Hera', 'Zeus', 'Acropolis', 'Athens'}...\n"
     ]
    }
   ],
   "source": [
    "# Syllogism\n",
    "allthings = { \"Socrates\", \"Plato\", \"Eratosthenes\", \"Zeus\", \"Hera\", \"Athens\", \"Acropolis\", \"Cat\", \"Dog\" }\n",
    "men = { \"Socrates\", \"Plato\", \"Eratosthenes\" }\n",
    "mortalthings = { \"Socrates\", \"Plato\", \"Eratosthenes\", \"Cat\", \"Dog\" }\n",
    "print(f\"A. Check if All mortal men is the same as all men: {men & mortalthings == men}...\")\n",
    "print(f\"B. Check if Socrates appears in men: {'Socrates' in men}...\")\n",
    "print(f\"C. Check if Socrates appears in Mortal: {'Socrates' in mortalthings}...\")\n",
    "print(f\"D. Check what is mortal but not men: {mortalthings-men}...\")\n",
    "print(f\"E. Things that are not mortal: {allthings - mortalthings}...\")\n"
   ]
  },
  {
   "cell_type": "markdown",
   "metadata": {},
   "source": [
    "### Exercise 14.2"
   ]
  },
  {
   "cell_type": "markdown",
   "metadata": {},
   "source": [
    "In the code block below, first produce three sets of numbers between 1 and 1000, the first all those numbers that are dividable by 3, the second all those numbers that are dividable by 7, and the third all those numbers that are dividable by 11. It is easiest to do that with list comprehension, but it is not necessary. Now produce sets of all the numbers between 1 and 1000 that (a) are dividable by 3, 7, and 11, (b) are dividable by 3 and 7, but not by 11, (c) that are not dividable by 3, 7, or 11. The shortest solution has only one line of code for each of the six sets."
   ]
  },
  {
   "cell_type": "code",
   "execution_count": 46,
   "metadata": {
    "tags": []
   },
   "outputs": [
    {
     "name": "stdout",
     "output_type": "stream",
     "text": [
      "{3, 6, 9, 12, 15, 18, 21, 24, 27, 30, 33, 36, 39, 42, 45, 48, 51, 54, 57, 60, 63, 66, 69, 72, 75, 78, 81, 84, 87, 90, 93, 96, 99, 102, 105, 108, 111, 114, 117, 120, 123, 126, 129, 132, 135, 138, 141, 144, 147, 150, 153, 156, 159, 162, 165, 168, 171, 174, 177, 180, 183, 186, 189, 192, 195, 198, 201, 204, 207, 210, 213, 216, 219, 222, 225, 228, 231, 234, 237, 240, 243, 246, 249, 252, 255, 258, 261, 264, 267, 270, 273, 276, 279, 282, 285, 288, 291, 294, 297, 300, 303, 306, 309, 312, 315, 318, 321, 324, 327, 330, 333, 336, 339, 342, 345, 348, 351, 354, 357, 360, 363, 366, 369, 372, 375, 378, 381, 384, 387, 390, 393, 396, 399, 402, 405, 408, 411, 414, 417, 420, 423, 426, 429, 432, 435, 438, 441, 444, 447, 450, 453, 456, 459, 462, 465, 468, 471, 474, 477, 480, 483, 486, 489, 492, 495, 498, 501, 504, 507, 510, 513, 516, 519, 522, 525, 528, 531, 534, 537, 540, 543, 546, 549, 552, 555, 558, 561, 564, 567, 570, 573, 576, 579, 582, 585, 588, 591, 594, 597, 600, 603, 606, 609, 612, 615, 618, 621, 624, 627, 630, 633, 636, 639, 642, 645, 648, 651, 654, 657, 660, 663, 666, 669, 672, 675, 678, 681, 684, 687, 690, 693, 696, 699, 702, 705, 708, 711, 714, 717, 720, 723, 726, 729, 732, 735, 738, 741, 744, 747, 750, 753, 756, 759, 762, 765, 768, 771, 774, 777, 780, 783, 786, 789, 792, 795, 798, 801, 804, 807, 810, 813, 816, 819, 822, 825, 828, 831, 834, 837, 840, 843, 846, 849, 852, 855, 858, 861, 864, 867, 870, 873, 876, 879, 882, 885, 888, 891, 894, 897, 900, 903, 906, 909, 912, 915, 918, 921, 924, 927, 930, 933, 936, 939, 942, 945, 948, 951, 954, 957, 960, 963, 966, 969, 972, 975, 978, 981, 984, 987, 990, 993, 996, 999} \n",
      " {518, 7, 525, 14, 532, 21, 539, 28, 546, 35, 553, 42, 560, 49, 567, 56, 574, 63, 581, 70, 588, 77, 595, 84, 602, 91, 609, 98, 616, 105, 623, 112, 630, 119, 637, 126, 644, 133, 651, 140, 658, 147, 665, 154, 672, 161, 679, 168, 686, 175, 693, 182, 700, 189, 707, 196, 714, 203, 721, 210, 728, 217, 735, 224, 742, 231, 749, 238, 756, 245, 763, 252, 770, 259, 777, 266, 784, 273, 791, 280, 798, 287, 805, 294, 812, 301, 819, 308, 826, 315, 833, 322, 840, 329, 847, 336, 854, 343, 861, 350, 868, 357, 875, 364, 882, 371, 889, 378, 896, 385, 903, 392, 910, 399, 917, 406, 924, 413, 931, 420, 938, 427, 945, 434, 952, 441, 959, 448, 966, 455, 973, 462, 980, 469, 987, 476, 994, 483, 490, 497, 504, 511} \n",
      " {517, 11, 528, 22, 539, 33, 550, 44, 561, 55, 572, 66, 583, 77, 594, 88, 605, 99, 616, 110, 627, 121, 638, 132, 649, 143, 660, 154, 671, 165, 682, 176, 693, 187, 704, 198, 715, 209, 726, 220, 737, 231, 748, 242, 759, 253, 770, 264, 781, 275, 792, 286, 803, 297, 814, 308, 825, 319, 836, 330, 847, 341, 858, 352, 869, 363, 880, 374, 891, 385, 902, 396, 913, 407, 924, 418, 935, 429, 946, 440, 957, 451, 968, 462, 979, 473, 990, 484, 495, 506} \n",
      " {924, 693, 462, 231} \n",
      " {903, 777, 651, 525, 399, 273, 147, 21, 798, 672, 546, 420, 294, 168, 42, 945, 819, 567, 441, 315, 189, 63, 966, 840, 714, 588, 336, 210, 84, 987, 861, 735, 609, 483, 357, 105, 882, 756, 630, 504, 378, 252, 126} \n",
      " {1, 2, 4, 5, 8, 10, 13, 16, 17, 19, 20, 23, 25, 26, 29, 31, 32, 34, 37, 38, 40, 41, 43, 46, 47, 50, 52, 53, 58, 59, 61, 62, 64, 65, 67, 68, 71, 73, 74, 76, 79, 80, 82, 83, 85, 86, 89, 92, 94, 95, 97, 100, 101, 103, 104, 106, 107, 109, 113, 115, 116, 118, 122, 124, 125, 127, 128, 130, 131, 134, 136, 137, 139, 142, 145, 146, 148, 149, 151, 152, 155, 157, 158, 160, 163, 164, 166, 167, 169, 170, 172, 173, 178, 179, 181, 184, 185, 188, 190, 191, 193, 194, 197, 199, 200, 202, 205, 206, 208, 211, 212, 214, 215, 218, 221, 223, 226, 227, 229, 230, 232, 233, 235, 236, 239, 241, 244, 247, 248, 250, 251, 254, 256, 257, 260, 262, 263, 265, 268, 269, 271, 272, 274, 277, 278, 281, 283, 284, 289, 290, 292, 293, 295, 296, 298, 299, 302, 304, 305, 307, 310, 311, 313, 314, 316, 317, 320, 323, 325, 326, 328, 331, 332, 334, 335, 337, 338, 340, 344, 346, 347, 349, 353, 355, 356, 358, 359, 361, 362, 365, 367, 368, 370, 373, 376, 377, 379, 380, 382, 383, 386, 388, 389, 391, 394, 395, 397, 398, 400, 401, 403, 404, 409, 410, 412, 415, 416, 419, 421, 422, 424, 425, 428, 430, 431, 433, 436, 437, 439, 442, 443, 445, 446, 449, 452, 454, 457, 458, 460, 461, 463, 464, 466, 467, 470, 472, 475, 478, 479, 481, 482, 485, 487, 488, 491, 493, 494, 496, 499, 500, 502, 503, 505, 508, 509, 512, 514, 515, 520, 521, 523, 524, 526, 527, 529, 530, 533, 535, 536, 538, 541, 542, 544, 545, 547, 548, 551, 554, 556, 557, 559, 562, 563, 565, 566, 568, 569, 571, 575, 577, 578, 580, 584, 586, 587, 589, 590, 592, 593, 596, 598, 599, 601, 604, 607, 608, 610, 611, 613, 614, 617, 619, 620, 622, 625, 626, 628, 629, 631, 632, 634, 635, 640, 641, 643, 646, 647, 650, 652, 653, 655, 656, 659, 661, 662, 664, 667, 668, 670, 673, 674, 676, 677, 680, 683, 685, 688, 689, 691, 692, 694, 695, 697, 698, 701, 703, 706, 709, 710, 712, 713, 716, 718, 719, 722, 724, 725, 727, 730, 731, 733, 734, 736, 739, 740, 743, 745, 746, 751, 752, 754, 755, 757, 758, 760, 761, 764, 766, 767, 769, 772, 773, 775, 776, 778, 779, 782, 785, 787, 788, 790, 793, 794, 796, 797, 799, 800, 802, 806, 808, 809, 811, 815, 817, 818, 820, 821, 823, 824, 827, 829, 830, 832, 835, 838, 839, 841, 842, 844, 845, 848, 850, 851, 853, 856, 857, 859, 860, 862, 863, 865, 866, 871, 872, 874, 877, 878, 881, 883, 884, 886, 887, 890, 892, 893, 895, 898, 899, 901, 904, 905, 907, 908, 911, 914, 916, 919, 920, 922, 923, 925, 926, 928, 929, 932, 934, 937, 940, 941, 943, 944, 947, 949, 950, 953, 955, 956, 958, 961, 962, 964, 965, 967, 970, 971, 974, 976, 977, 982, 983, 985, 986, 988, 989, 991, 992, 995, 997, 998, 1000} \n",
      "\n"
     ]
    }
   ],
   "source": [
    "# Number sets.\n",
    "A = {n for n in range (1,1001) if n % 3 == 0}\n",
    "B = {n for n in range (1,1001) if n % 7 == 0}\n",
    "C = {n for n in range (1,1001) if n % 11 == 0}\n",
    "AA = (A & B) & C\n",
    "BB = (A & B) - C\n",
    "CC = set(range(1, 1001)) - (A | B | C)\n",
    "print(A , \"\\n\" , B , \"\\n\" , C , \"\\n\" ,AA , \"\\n\" , BB , \"\\n\" ,CC , \"\\n\")"
   ]
  },
  {
   "cell_type": "markdown",
   "metadata": {},
   "source": [
    "---"
   ]
  },
  {
   "cell_type": "markdown",
   "metadata": {},
   "source": [
    "## Python 2"
   ]
  },
  {
   "cell_type": "markdown",
   "metadata": {},
   "source": [
    "Python 2 does not support sets natively. You have to import the `sets` module to use them. Moreover, to create a set you use the `Set()` method, not the `set()` function. To create a set with elements in them, in Python 2 the only way is to give the elements as a list argument to the `Set()` method."
   ]
  },
  {
   "cell_type": "markdown",
   "metadata": {},
   "source": [
    "---"
   ]
  },
  {
   "cell_type": "markdown",
   "metadata": {},
   "source": [
    "End of Chapter 14. Version 2.0. "
   ]
  }
 ],
 "metadata": {
  "kernelspec": {
   "display_name": "Python 3 (ipykernel)",
   "language": "python",
   "name": "python3"
  },
  "language_info": {
   "codemirror_mode": {
    "name": "ipython",
    "version": 3
   },
   "file_extension": ".py",
   "mimetype": "text/x-python",
   "name": "python",
   "nbconvert_exporter": "python",
   "pygments_lexer": "ipython3",
   "version": "3.11.4"
  }
 },
 "nbformat": 4,
 "nbformat_minor": 4
}
