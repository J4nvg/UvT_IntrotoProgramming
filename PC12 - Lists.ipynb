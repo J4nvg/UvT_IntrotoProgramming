{
 "cells": [
  {
   "cell_type": "markdown",
   "metadata": {},
   "source": [
    "# Chapter 12 - Lists"
   ]
  },
  {
   "cell_type": "markdown",
   "metadata": {},
   "source": [
    "## Exercises"
   ]
  },
  {
   "cell_type": "markdown",
   "metadata": {},
   "source": [
    "### Exercise 12.1"
   ]
  },
  {
   "cell_type": "markdown",
   "metadata": {},
   "source": [
    "A magic 8-ball, when asked a question, provides a random answer from a list. The code below contains a list of possible answers. Create a magic 8-ball program that asks a question, then gives a random answer."
   ]
  },
  {
   "cell_type": "code",
   "execution_count": 101,
   "metadata": {
    "tags": []
   },
   "outputs": [
    {
     "name": "stdout",
     "output_type": "stream",
     "text": [
      "### Welcome to magic 8 ball ask your question: ###\n",
      "### Press enter to question ###\n"
     ]
    },
    {
     "name": "stdin",
     "output_type": "stream",
     "text": [
      "Your question:  word ik rijk\n"
     ]
    },
    {
     "name": "stdout",
     "output_type": "stream",
     "text": [
      "8-ball's answer: Very doubtful\n"
     ]
    },
    {
     "name": "stdin",
     "output_type": "stream",
     "text": [
      "Your question:  krijg ik 3 kinderen\n"
     ]
    },
    {
     "name": "stdout",
     "output_type": "stream",
     "text": [
      "8-ball's answer: Signs point to yes\n"
     ]
    },
    {
     "name": "stdin",
     "output_type": "stream",
     "text": [
      "Your question:  \n"
     ]
    },
    {
     "name": "stdout",
     "output_type": "stream",
     "text": [
      "### Thanks for playing, Hope to see you again. ###\n"
     ]
    }
   ],
   "source": [
    "# Magic 8-ball\n",
    "from random import randint\n",
    "answers = [ \"It is certain\", \"It is decidedly so\", \"Without a doubt\",\n",
    "    \"Yes, definitely\", \"You may rely on it\", \"As I see it, yes\",\n",
    "    \"Most likely\", \"Outlook good\", \"Yes\", \"Signs point to yes\",\n",
    "    \"Reply hazy try again\", \"Ask again later\", \"Better not tell you now\",\n",
    "    \"Cannot predict now\", \"Concentrate and ask again\", \"Don't count on it\",\n",
    "    \"My reply is no\", \"My sources say no\", \"Outlook not so good\",\n",
    "    \"Very doubtful\" ]\n",
    "\n",
    "print('### Welcome to magic 8 ball ask your question: ###')\n",
    "print('### Press enter to question ###')\n",
    "while True:\n",
    "    a = input('Your question: ')\n",
    "    if a == '':\n",
    "        break\n",
    "    print('8-ball\\'s answer: ' + answers[randint(0,len(answers)-1)])\n",
    "print('### Thanks for playing, Hope to see you again. ###')"
   ]
  },
  {
   "cell_type": "markdown",
   "metadata": {},
   "source": [
    "### Exercise 12.2"
   ]
  },
  {
   "cell_type": "markdown",
   "metadata": {},
   "source": [
    "A playing card consists of a suit (\"Hearts\", \"Spades\", \"Clubs\", or \"Diamonds\") and a value (\"Ace\", 2, 3, 4, 5, 6, 7, 8, 9, 10, \"Jack\", \"Queen\", \"King\"). Create a list of all possible playing cards, which is a deck. Then create a function that shuffles the deck, producing a random order."
   ]
  },
  {
   "cell_type": "code",
   "execution_count": 109,
   "metadata": {
    "tags": []
   },
   "outputs": [
    {
     "name": "stdout",
     "output_type": "stream",
     "text": [
      "### Unshuffled deck ###\n",
      "['Ace of Hearts ', '2 of Hearts ', '3 of Hearts ', '4 of Hearts ', '5 of Hearts ', '6 of Hearts ', '7 of Hearts ', '8 of Hearts ', '9 of Hearts ', '10 of Hearts ', 'Jack of Hearts ', 'Queen of Hearts ', 'King of Hearts ', 'Ace of Spades ', '2 of Spades ', '3 of Spades ', '4 of Spades ', '5 of Spades ', '6 of Spades ', '7 of Spades ', '8 of Spades ', '9 of Spades ', '10 of Spades ', 'Jack of Spades ', 'Queen of Spades ', 'King of Spades ', 'Ace of Clubs ', '2 of Clubs ', '3 of Clubs ', '4 of Clubs ', '5 of Clubs ', '6 of Clubs ', '7 of Clubs ', '8 of Clubs ', '9 of Clubs ', '10 of Clubs ', 'Jack of Clubs ', 'Queen of Clubs ', 'King of Clubs ', 'Ace of Diamonds ', '2 of Diamonds ', '3 of Diamonds ', '4 of Diamonds ', '5 of Diamonds ', '6 of Diamonds ', '7 of Diamonds ', '8 of Diamonds ', '9 of Diamonds ', '10 of Diamonds ', 'Jack of Diamonds ', 'Queen of Diamonds ', 'King of Diamonds ']\n",
      "### shuffled deck ###\n"
     ]
    },
    {
     "data": {
      "text/plain": [
       "['6 of Clubs ',\n",
       " '5 of Spades ',\n",
       " 'King of Clubs ',\n",
       " 'Jack of Diamonds ',\n",
       " '9 of Diamonds ',\n",
       " '10 of Hearts ',\n",
       " '9 of Spades ',\n",
       " '9 of Hearts ',\n",
       " '4 of Diamonds ',\n",
       " 'Jack of Spades ',\n",
       " 'Jack of Clubs ',\n",
       " '3 of Spades ',\n",
       " '5 of Diamonds ',\n",
       " '4 of Hearts ',\n",
       " 'Ace of Hearts ',\n",
       " '8 of Diamonds ',\n",
       " '8 of Clubs ',\n",
       " 'Ace of Diamonds ',\n",
       " '6 of Hearts ',\n",
       " '7 of Diamonds ',\n",
       " 'King of Spades ',\n",
       " 'Queen of Clubs ',\n",
       " '3 of Hearts ',\n",
       " '2 of Hearts ',\n",
       " '6 of Diamonds ',\n",
       " '8 of Hearts ',\n",
       " '7 of Spades ',\n",
       " '9 of Clubs ',\n",
       " '2 of Clubs ',\n",
       " '3 of Diamonds ',\n",
       " 'Queen of Hearts ',\n",
       " '6 of Spades ',\n",
       " 'Jack of Hearts ',\n",
       " '7 of Clubs ',\n",
       " '2 of Diamonds ',\n",
       " 'Ace of Spades ',\n",
       " '4 of Clubs ',\n",
       " '5 of Clubs ',\n",
       " '10 of Spades ',\n",
       " '3 of Clubs ',\n",
       " '8 of Spades ',\n",
       " '5 of Hearts ',\n",
       " '4 of Spades ',\n",
       " 'Queen of Spades ',\n",
       " 'Queen of Diamonds ',\n",
       " '10 of Clubs ',\n",
       " '7 of Hearts ',\n",
       " '2 of Spades ',\n",
       " 'King of Hearts ',\n",
       " 'Ace of Clubs ',\n",
       " '10 of Diamonds ',\n",
       " 'King of Diamonds ']"
      ]
     },
     "execution_count": 109,
     "metadata": {},
     "output_type": "execute_result"
    }
   ],
   "source": [
    "# Shuffling a deck.\n",
    "import random\n",
    "def shuffle(deck):\n",
    "    random.shuffle(deck)\n",
    "    return deck\n",
    "suits = [\"Hearts\", \"Spades\", \"Clubs\",\"Diamonds\"]\n",
    "values = [\"Ace\", 2, 3, 4, 5, 6, 7, 8, 9, 10, \"Jack\", \"Queen\", \"King\"]\n",
    "deck = []\n",
    "for suit in suits:\n",
    "    for value in values:\n",
    "        deck.append(f'{value} of {suit} ')\n",
    "print('### Unshuffled deck ###')        \n",
    "print(deck)\n",
    "print('### shuffled deck ###')\n",
    "shuffle(deck)\n"
   ]
  },
  {
   "cell_type": "markdown",
   "metadata": {},
   "source": [
    "### Exercise 12.3"
   ]
  },
  {
   "cell_type": "markdown",
   "metadata": {},
   "source": [
    "A first-in-first-out (FIFO) structure, also called a \"queue\", is a list that gets new elements added at the end, while elements from the front are removed and processed. Write a program that processes a queue. In a loop, ask the user for input. If the user just presses the *Enter* key, the program ends. If the user enters anything else, except for a single question mark (`?`), the program considers what the user entered a new element and appends it to the queue. If the user enters a single question mark, the program pops the first element from the queue and displays it. You have to take into account that the user might type a question mark even if the queue is empty.  "
   ]
  },
  {
   "cell_type": "code",
   "execution_count": 124,
   "metadata": {
    "tags": []
   },
   "outputs": [
    {
     "name": "stdout",
     "output_type": "stream",
     "text": [
      "0\n"
     ]
    },
    {
     "name": "stdin",
     "output_type": "stream",
     "text": [
      "Enter an element:  ?\n"
     ]
    },
    {
     "name": "stdout",
     "output_type": "stream",
     "text": [
      "Cannot pop first element; Queue is empty\n"
     ]
    },
    {
     "name": "stdin",
     "output_type": "stream",
     "text": [
      "Enter an element:  a\n"
     ]
    },
    {
     "name": "stdout",
     "output_type": "stream",
     "text": [
      "['a']\n"
     ]
    },
    {
     "name": "stdin",
     "output_type": "stream",
     "text": [
      "Enter an element:  ?\n"
     ]
    },
    {
     "name": "stdout",
     "output_type": "stream",
     "text": [
      "Popping : a\n"
     ]
    },
    {
     "name": "stdin",
     "output_type": "stream",
     "text": [
      "Enter an element:  \n"
     ]
    }
   ],
   "source": [
    "# Queue.\n",
    "\n",
    "\n",
    "queue = []\n",
    "while True:\n",
    "    userInput = input(\"Enter an element: \")\n",
    "    if userInput == \"\":\n",
    "        break\n",
    "    elif userInput == '?':\n",
    "        if len(queue) == 0:\n",
    "            print('Cannot pop first element; Queue is empty')\n",
    "        else:\n",
    "            print(f'Popping : {queue[0]}')\n",
    "            queue.pop(0)\n",
    "       \n",
    "    else: \n",
    "        queue.append(userInput)\n",
    "        print(queue)\n",
    "    "
   ]
  },
  {
   "cell_type": "markdown",
   "metadata": {},
   "source": [
    "### Exercise 12.4"
   ]
  },
  {
   "cell_type": "markdown",
   "metadata": {},
   "source": [
    "Count how often each letter occurs in a string (case-insensitively). You can ignore every character that is not a letter. Print the letters with their counts, in order from highest count to lowest count."
   ]
  },
  {
   "cell_type": "code",
   "execution_count": 157,
   "metadata": {
    "tags": []
   },
   "outputs": [
    {
     "name": "stdin",
     "output_type": "stream",
     "text": [
      "Please enter a string:  Aapensoep\n"
     ]
    },
    {
     "name": "stdout",
     "output_type": "stream",
     "text": [
      "a : 2\n",
      "p : 2\n",
      "e : 2\n",
      "n : 1\n",
      "s : 1\n",
      "o : 1\n"
     ]
    }
   ],
   "source": [
    "# Letter counting.\n",
    "charList = []\n",
    "countList = []\n",
    "theString = input('Please enter a string: ')\n",
    "theString = theString.lower()\n",
    "for char in theString:\n",
    "    if char not in charList:\n",
    "        charList.append(char)\n",
    "        countList.append(1)\n",
    "    elif char in charList:\n",
    "        index = charList.index(char)\n",
    "        countList[index] += 1\n",
    "listCombined = list(zip(charList, countList))\n",
    "listCombined = sorted(listCombined, key=lambda x: x[1], reverse=True)\n",
    "charList, countList = zip(*listCombined)\n",
    "for x in range(len(charList)):\n",
    "    print(f\"{charList[x]} : {countList[x]}\")"
   ]
  },
  {
   "cell_type": "markdown",
   "metadata": {},
   "source": [
    "### Exercise 12.5"
   ]
  },
  {
   "cell_type": "markdown",
   "metadata": {},
   "source": [
    "The sieve of Eratosthenes is a method to find all prime numbers between 1 and a given number using a list. This works as follows: Fill the list with the sequence of numbers from 1 to the highest number. Set the value of 1 to zero, as 1 is not prime. Now loop over the list. Find the next number on the list that is not zero, which, at the start, is the number 2. Now set all multiples of this number to zero. Then find the next number on the list that is not zero, which is 3. Set all multiples of this number to zero. Then the next number, which is 5 (because 4 has already been set to zero), and do the same thing again. Process all the numbers of the list in this way. When you have finished, the only numbers left on the list are primes. Use this method to determine all the primes between 1 and 100."
   ]
  },
  {
   "cell_type": "code",
   "execution_count": null,
   "metadata": {
    "collapsed": true,
    "jupyter": {
     "outputs_hidden": true
    }
   },
   "outputs": [],
   "source": [
    "# Eratosthenes.\n"
   ]
  },
  {
   "cell_type": "markdown",
   "metadata": {},
   "source": [
    "### Exercise 12.6"
   ]
  },
  {
   "cell_type": "markdown",
   "metadata": {},
   "source": [
    "Write a Tic-Tac-Toe program that allows two people to play the game against each other. In turn, ask each player which row and column they want to play. Make sure that the program checks if that row/column combination is empty. When a player has won, end the game. When the whole board is full and there is no winner, announce a draw."
   ]
  },
  {
   "cell_type": "code",
   "execution_count": null,
   "metadata": {
    "collapsed": true,
    "jupyter": {
     "outputs_hidden": true
    }
   },
   "outputs": [],
   "source": [
    "# Tic-Tac-Toe player.\n"
   ]
  },
  {
   "cell_type": "markdown",
   "metadata": {},
   "source": [
    "This is a fairly long program to write (60 lines or so). It will definitely help to use some functions. I recommend that you create a function `display_board()` that gets the board as parameter and displays it, a function `getRowCol()` that asks for a row or a column (depending on a parameter) and checks whether the user entered a legal value, and a function `winner()` that gets the board as argument and checks if there is a winner. Keep track of who the current player is using a global variable `player` that you can pass to a function as an argument if the function needs it. I also use a function `opponent()`, that takes the player as argument and returns the opponent. I use that to switch players after each move.\n",
    "\n",
    "The main program will be something along the lines of (in pseudo-code):\n",
    "\n",
    "    display board\n",
    "    while True:\n",
    "        ask for row\n",
    "        ask for column\n",
    "        if row/column combination already occupied:\n",
    "            display error message\n",
    "            continue\n",
    "        place player marker on row/column combination\n",
    "        display board\n",
    "        if there is a winner\n",
    "            announce winner\n",
    "            break\n",
    "        if the board is full\n",
    "            announce draw\n",
    "            break\n",
    "        switch players"
   ]
  },
  {
   "cell_type": "markdown",
   "metadata": {},
   "source": [
    "### Exercise 12.7"
   ]
  },
  {
   "cell_type": "markdown",
   "metadata": {},
   "source": [
    "Create a program that is a simplified version of the game \"Battleship\". The computer creates (in memory) a grid that is 4 cells wide and 3 cells high. The rows of the grid are numbered 1 to 3, and the columns of the grid are labeled `A` to `D`. The computer hides a battleship in three random cells in the grid. Each battleship occupies exactly one cell. Battleships are not allowed to touch each other horizontally or vertically. Make sure that the program places the battleships randomly, so not pre-configured.\n",
    "\n",
    "The computer asks the player to \"shoot\" at cells of the grid. The player does so by entering the column letter and row number of the cell which he wants to shoot at (e.g., \"D3\"). If the cell which the player shoots at contains nothing, the computer responds with \"Miss!\". If the cell contains a battleship, the computer responds with \"You sunk my battleship!\", and removes the battleship from the cell (i.e., a second shot at the same cell is a miss). As soon as the player hits the last battleship, the computer responds with displaying how many shots the player needed to shoot down all three battleships, and the program ends.\n",
    "\n",
    "To help with debugging the game, at the start the computer should display the grid with periods marking empty cells and `X`s marking cells with battleships.\n",
    "\n",
    "Hint: If you have troubles with this exercise, start by using a board which has the battleships already placed. Once the rest of the code works, add a function that places the battleships at random, at first without checking if they are touching one another. Once that works, add code that disallows battleships touching each other."
   ]
  },
  {
   "cell_type": "code",
   "execution_count": null,
   "metadata": {
    "collapsed": true,
    "jupyter": {
     "outputs_hidden": true
    }
   },
   "outputs": [],
   "source": [
    "# Battleship.\n"
   ]
  },
  {
   "cell_type": "markdown",
   "metadata": {},
   "source": [
    "### Exercise 12.8"
   ]
  },
  {
   "cell_type": "markdown",
   "metadata": {},
   "source": [
    "The \"subset sum\" problem asks the question whether a list of integers contains a subset of integers that, when summed, gives zero as answer. For instance, for the list `[1, 4, -3, -5, 7]` the answer is \"yes\", as `1 + 4 - 5 = 0`. However, for the list `[1, 4, -3, 7]` the answer is \"no\", as there is no subset of integers that adds up to zero. Write a program that solves the \"subset sum\" problem for a list of integers. If there is a solution, print it; if not, report that there is no solution.\n",
    "\n",
    "Hint: This problem is tackled best using recursion. If you skipped that chapter, you better skip this exercise too."
   ]
  },
  {
   "cell_type": "code",
   "execution_count": null,
   "metadata": {
    "collapsed": true,
    "jupyter": {
     "outputs_hidden": true
    }
   },
   "outputs": [],
   "source": [
    "# Subset sum problem.\n"
   ]
  },
  {
   "cell_type": "markdown",
   "metadata": {},
   "source": [
    "---"
   ]
  },
  {
   "cell_type": "markdown",
   "metadata": {},
   "source": [
    "## Python 2"
   ]
  },
  {
   "cell_type": "markdown",
   "metadata": {},
   "source": [
    "In Python 2, sorting a mixed list does not give a runtime error. The `sort()` function also supports an argument `cmp=<function>`, that allows you to specify a function that does the comparison between two elements. This function is no longer supported in Python 3, but you can use the `key` parameter for the same purpose. In the Python module `functools` a function `cmp_to_key()` is found that turns the old-style `cmp` specification into the new-style `key` specification.\n",
    "\n",
    "In Python 2, the `range()` function produces an actual list, and you do not need list casting to turn the result of it into one."
   ]
  },
  {
   "cell_type": "markdown",
   "metadata": {},
   "source": [
    "--------"
   ]
  },
  {
   "cell_type": "markdown",
   "metadata": {},
   "source": [
    "End of Chapter 12. Version 2.0."
   ]
  }
 ],
 "metadata": {
  "kernelspec": {
   "display_name": "Python 3 (ipykernel)",
   "language": "python",
   "name": "python3"
  },
  "language_info": {
   "codemirror_mode": {
    "name": "ipython",
    "version": 3
   },
   "file_extension": ".py",
   "mimetype": "text/x-python",
   "name": "python",
   "nbconvert_exporter": "python",
   "pygments_lexer": "ipython3",
   "version": "3.11.4"
  }
 },
 "nbformat": 4,
 "nbformat_minor": 4
}
