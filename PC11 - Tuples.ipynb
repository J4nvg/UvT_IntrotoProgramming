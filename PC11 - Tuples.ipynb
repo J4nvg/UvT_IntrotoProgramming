{
 "cells": [
  {
   "cell_type": "markdown",
   "metadata": {},
   "source": [
    "# Chapter 12 - Tuples"
   ]
  },
  {
   "cell_type": "markdown",
   "metadata": {},
   "source": [
    "## What you learned"
   ]
  },
  {
   "cell_type": "markdown",
   "metadata": {},
   "source": [
    "In this chapter, you learned about:\n",
    "\n",
    "- Tuples\n",
    "- Tuple assignments\n",
    "- Tuple indices\n",
    "- Immutability of tuples\n",
    "- Applications of tuples"
   ]
  },
  {
   "cell_type": "markdown",
   "metadata": {},
   "source": [
    "-------------"
   ]
  },
  {
   "cell_type": "markdown",
   "metadata": {},
   "source": [
    "## Exercises"
   ]
  },
  {
   "cell_type": "markdown",
   "metadata": {},
   "source": [
    "### Exercise 11.1"
   ]
  },
  {
   "cell_type": "markdown",
   "metadata": {},
   "source": [
    "A complex number is a number of the form `a + bi`, whereby `a` and `b` are constants, and `i` is a special value that is defined as the square root of `-1`. Of course, you never try to actually calculate what the square root of `-1` is, as that gives a runtime error; in complex numbers, you always let the `i` remain. For instance, the complex number `3 + 2i` cannot be simplified any further. Addition of two complex numbers `a + bi` and `c + di` is defined as `(a + c) + (b + d)i`. Represent a complex number as a tuple of two numeric values, and create a function that calculates the addition of two complex numbers. "
   ]
  },
  {
   "cell_type": "code",
   "execution_count": 22,
   "metadata": {},
   "outputs": [
    {
     "name": "stdout",
     "output_type": "stream",
     "text": [
      "3 + 3 i\n"
     ]
    }
   ],
   "source": [
    "# Adding complex numbers.\n",
    "def iAddition(n1,n2):\n",
    "    return((n1[0]+n2[0]),(n1[1]+n2[1]))\n",
    "\n",
    "n1 = (1,1)\n",
    "n2 = (2,2)\n",
    "print(iAddition(n1,n2)[0],'+',iAddition(n1,n2)[1],'i')"
   ]
  },
  {
   "cell_type": "markdown",
   "metadata": {},
   "source": [
    "### Exercise 11.2"
   ]
  },
  {
   "cell_type": "markdown",
   "metadata": {},
   "source": [
    "Multiplication of two complex numbers `a + bi` and `c + di` is defined as `(a*c - b*d) + (a*d + b*c)i`. Write a function that calculates the multiplication of two complex numbers."
   ]
  },
  {
   "cell_type": "code",
   "execution_count": 27,
   "metadata": {},
   "outputs": [
    {
     "name": "stdout",
     "output_type": "stream",
     "text": [
      "6 + 89 i\n"
     ]
    }
   ],
   "source": [
    "# Multiplying complex numbers.\n",
    "# Adding complex numbers.\n",
    "def iMult(n1,n2):\n",
    "    return((n1[0]*n2[0] - n1[1]*n2[1]),(n1[0]*n2[1] + n1[1]*n2[0]))\n",
    "\n",
    "n1 = (10,3)\n",
    "n2 = (3,8)\n",
    "print(iMult(n1,n2)[0],'+',iMult(n1,n2)[1],'i')"
   ]
  },
  {
   "cell_type": "markdown",
   "metadata": {},
   "source": [
    "### Exercise 11.3"
   ]
  },
  {
   "cell_type": "markdown",
   "metadata": {},
   "source": [
    "Consider the definition of a new datatype. The new datatype is the \"inttuple\". An inttuple is defined as being either an integer, or a tuple consisting of inttuples. You see an example of an inttuple in the code block below. Write a function that prints all the integer values stored in an inttuple. Hint: Since the inttuple is defined recursively, a recursive function is probably the right approach. Use the `isinstance()` function (explained in the chapter on functions) to determine whether you are dealing with an integer or a tuple. If you do this correctly, the function will print the numbers 1 to 20 sequentially."
   ]
  },
  {
   "cell_type": "code",
   "execution_count": 41,
   "metadata": {
    "tags": []
   },
   "outputs": [
    {
     "name": "stdout",
     "output_type": "stream",
     "text": [
      "1\n",
      "2\n",
      "3\n",
      "4\n",
      "5\n",
      "6\n",
      "7\n",
      "8\n",
      "9\n",
      "10\n",
      "11\n",
      "12\n",
      "13\n",
      "14\n",
      "15\n",
      "16\n",
      "17\n",
      "18\n",
      "19\n",
      "20\n"
     ]
    }
   ],
   "source": [
    "# Processing inttuples\n",
    "inttuple = ( 1, 2, ( 3, 4 ), 5, ( ( 6, 7, 8, ( 9, 10 ), 11 ), 12, 13 ), ( ( 14, 15, 16 ), ( 17, 18, 19, 20 ) ) )\n",
    "def printint(tuples):\n",
    "    for n in (tuples):\n",
    "        if isinstance(n,int):\n",
    "            print(n)\n",
    "        elif isinstance(n,tuple):\n",
    "            printint(n)\n",
    "\n",
    "printint(inttuple)"
   ]
  },
  {
   "cell_type": "markdown",
   "metadata": {},
   "source": [
    "-------------------------------------------------------------"
   ]
  },
  {
   "cell_type": "markdown",
   "metadata": {},
   "source": [
    "End of Chapter 11. Version 1.2."
   ]
  }
 ],
 "metadata": {
  "kernelspec": {
   "display_name": "Python 3 (ipykernel)",
   "language": "python",
   "name": "python3"
  },
  "language_info": {
   "codemirror_mode": {
    "name": "ipython",
    "version": 3
   },
   "file_extension": ".py",
   "mimetype": "text/x-python",
   "name": "python",
   "nbconvert_exporter": "python",
   "pygments_lexer": "ipython3",
   "version": "3.11.4"
  }
 },
 "nbformat": 4,
 "nbformat_minor": 4
}
