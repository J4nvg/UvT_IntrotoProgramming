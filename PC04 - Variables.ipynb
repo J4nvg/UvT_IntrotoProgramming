{
 "cells": [
  {
   "cell_type": "markdown",
   "metadata": {},
   "source": [
    "## What you learned"
   ]
  },
  {
   "cell_type": "markdown",
   "metadata": {},
   "source": [
    "In this chapter, you learned about:\n",
    "-  What variables are\n",
    "-  Assigning a value to a variable\n",
    "-  Legal names for variables\n",
    "-  Good names for variables\n",
    "-  Debugging code in which variables might have unexpected values\n",
    "-  Soft typing\n",
    "-  Type hints\n",
    "-  Shorthand statements for changing variable values\n",
    "-  Code commentary"
   ]
  },
  {
   "cell_type": "markdown",
   "metadata": {},
   "source": [
    "-------"
   ]
  },
  {
   "cell_type": "markdown",
   "metadata": {},
   "source": [
    "## Exercises"
   ]
  },
  {
   "cell_type": "markdown",
   "metadata": {},
   "source": [
    "### Exercise 4.1"
   ]
  },
  {
   "cell_type": "markdown",
   "metadata": {},
   "source": [
    "Define three variables `var1`, `var2` and `var3`. Calculate the average of these variables and assign it to `average`. Print the average. Add three comments."
   ]
  },
  {
   "cell_type": "code",
   "execution_count": null,
   "metadata": {
    "collapsed": true,
    "jupyter": {
     "outputs_hidden": true
    }
   },
   "outputs": [],
   "source": [
    "# average\n",
    "var1 = 10\n",
    "var2 = 11\n",
    "var3 = 12\n",
    "#add values\n",
    "total = var1 + var2 + var3\n",
    "#total divided by n variables\n",
    "n = 3 # amount of variables\n",
    "average = total / n\n",
    "print(average)\n",
    "\n"
   ]
  },
  {
   "cell_type": "markdown",
   "metadata": {},
   "source": [
    "### Exercise 4.2"
   ]
  },
  {
   "cell_type": "markdown",
   "metadata": {},
   "source": [
    "Write code that can compute the surface of circle, using the variables `radius` and `pi = 3.14159`. The formula, in case you do not know, is radius times radius times `pi`. Print the outcome of your program as follows: 'The surface area of a circle with radius ... is ...'."
   ]
  },
  {
   "cell_type": "code",
   "execution_count": null,
   "metadata": {
    "collapsed": true,
    "jupyter": {
     "outputs_hidden": true
    }
   },
   "outputs": [],
   "source": [
    "# circle code\n",
    "radius = 5\n",
    "pi = 3.14159\n",
    "area = radius*radius * pi\n",
    "area = str(area)\n",
    "radius = str(radius)\n",
    "print(\"The surface area of a circle with radius \" + radius + \" is \" + area)"
   ]
  },
  {
   "cell_type": "markdown",
   "metadata": {},
   "source": [
    "### Exercise 4.3"
   ]
  },
  {
   "cell_type": "markdown",
   "metadata": {},
   "source": [
    "Write code that classifies a given amount of money (which you store in a variable `amount`), specified in cents, as greater monetary units. Your code lists the monetary equivalent in dollars (100 ct), quarters (25 ct), dimes (10 ct), nickels (5 ct), and pennies (1 ct). Your program should report the maximum number of dollars that fit in the amount, then the maximum number of quarters that fit in the remainder after you subtract the dollars, then the maximum number of dimes that fit in the remainder after you subtract the dollars and quarters, and so on for nickels and pennies. The result is that you express the amount as the minimum number of coins needed.  "
   ]
  },
  {
   "cell_type": "code",
   "execution_count": null,
   "metadata": {
    "collapsed": true,
    "jupyter": {
     "outputs_hidden": true
    }
   },
   "outputs": [],
   "source": [
    "# cashier code\n",
    "amount = 1156\n",
    "nDollars= amount//100\n",
    "amount = amount % 100\n",
    "nQuaters= amount // 25\n",
    "amount = amount % 25\n",
    "nDimes = amount // 10\n",
    "amount = amount % 10\n",
    "nNickles = amount // 1\n",
    "print(nDollars + nQuaters + nDimes +nNickles)"
   ]
  },
  {
   "cell_type": "markdown",
   "metadata": {},
   "source": [
    "### Exercise 4.4"
   ]
  },
  {
   "cell_type": "markdown",
   "metadata": {},
   "source": [
    "Can you think of a way to swap the values of two variables that does not need a third variable as a temporary storage? In the code block below, try to implement the swapping of the values of `a` and `b` without using a third variable. To help you out, the first step to do this is already given. You just need to add two more lines of code."
   ]
  },
  {
   "cell_type": "code",
   "execution_count": null,
   "metadata": {
    "collapsed": true,
    "jupyter": {
     "outputs_hidden": true
    }
   },
   "outputs": [],
   "source": [
    "a = 17\n",
    "b = 23\n",
    "print( \"a =\", a, \"and b =\", b )\n",
    "a += b\n",
    "# add two more lines of code here to ensure the swapping of a and b\n",
    "b = a - b\n",
    "a -=b\n",
    "print( \"a =\", a, \"and b =\", b )"
   ]
  },
  {
   "cell_type": "markdown",
   "metadata": {},
   "source": [
    "---"
   ]
  },
  {
   "cell_type": "markdown",
   "metadata": {},
   "source": [
    "## Python 2"
   ]
  },
  {
   "cell_type": "markdown",
   "metadata": {},
   "source": [
    "A small difference between Python 2 and Python 3 is that when using the `type()` function, where Python 3 displays the word `class`, Python 2 displays the word `type`. The reason is that in Python 3, all types are actually implemented as classes. Classes will be discussed much later in this course, but for all intents and purposes, you can think of classes and types as referring to the same thing.\n",
    "\n",
    "Another change from Python 2 is that the reserved words have changed a bit. In particular, `True`, `False`, and `None` were variables in Python 2, so that you could actually override their values. They are reserved words (and therefore constants) now."
   ]
  },
  {
   "cell_type": "markdown",
   "metadata": {},
   "source": [
    "---"
   ]
  },
  {
   "cell_type": "markdown",
   "metadata": {},
   "source": [
    "End of Chapter 4. Version 2.0."
   ]
  }
 ],
 "metadata": {
  "kernelspec": {
   "display_name": "Python 3 (ipykernel)",
   "language": "python",
   "name": "python3"
  },
  "language_info": {
   "codemirror_mode": {
    "name": "ipython",
    "version": 3
   },
   "file_extension": ".py",
   "mimetype": "text/x-python",
   "name": "python",
   "nbconvert_exporter": "python",
   "pygments_lexer": "ipython3",
   "version": "3.11.4"
  }
 },
 "nbformat": 4,
 "nbformat_minor": 4
}
