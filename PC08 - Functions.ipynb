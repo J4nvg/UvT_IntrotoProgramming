{
 "cells": [
  {
   "cell_type": "markdown",
   "metadata": {},
   "source": [
    "# Chapter 8 - Functions"
   ]
  },
  {
   "cell_type": "markdown",
   "metadata": {},
   "source": [
    "## What you learned"
   ]
  },
  {
   "cell_type": "markdown",
   "metadata": {},
   "source": [
    "In this chapter, you learned about:\n",
    "\n",
    "- The purpose of functions\n",
    "- Creating functions\n",
    "- Parameters and arguments\n",
    "- Returning values from functions with `return`\n",
    "- Naming conventions for functions\n",
    "- Commenting functions\n",
    "- Type hints for functions\n",
    "- Variable scope and lifetime\n",
    "- Local and global variables\n",
    "- Using functions to manage program complexity\n",
    "- Creating modules\n",
    "- Using a `main()` function\n",
    "- Anonymous functions"
   ]
  },
  {
   "cell_type": "markdown",
   "metadata": {},
   "source": [
    "---"
   ]
  },
  {
   "cell_type": "markdown",
   "metadata": {},
   "source": [
    "# Exercises"
   ]
  },
  {
   "cell_type": "markdown",
   "metadata": {},
   "source": [
    "In these exercises you write functions. Of course, you should not only write the functions, you should also write code to test them. For practice, you should also comment your functions as explained above."
   ]
  },
  {
   "cell_type": "markdown",
   "metadata": {},
   "source": [
    "### Exercise 8.1"
   ]
  },
  {
   "cell_type": "markdown",
   "metadata": {},
   "source": [
    "Create a function that gets a number as parameter, and then prints the multiplication table for that number from 1 to 10. E.g., when the parameter is `12`, the first line printed is \"`1 * 12 = 12`\" and the last line printed is \"`10 * 12 = 120`\"."
   ]
  },
  {
   "cell_type": "code",
   "execution_count": 1,
   "metadata": {
    "tags": []
   },
   "outputs": [
    {
     "name": "stdin",
     "output_type": "stream",
     "text": [
      "Enter the number you want the multiplication table from:  10\n"
     ]
    },
    {
     "name": "stdout",
     "output_type": "stream",
     "text": [
      "Printing the table from 1 to 10 of number 10 \n",
      "1 * 10 = 10\n",
      "2 * 10 = 20\n",
      "3 * 10 = 30\n",
      "4 * 10 = 40\n",
      "5 * 10 = 50\n",
      "6 * 10 = 60\n",
      "7 * 10 = 70\n",
      "8 * 10 = 80\n",
      "9 * 10 = 90\n",
      "10 * 10 = 100\n"
     ]
    }
   ],
   "source": [
    "# Multiplication table function.\n",
    "def getMultTable(n):\n",
    "    for i in range(1,11):\n",
    "        print(f\"{i} * {n} = {i*n}\") \n",
    "\n",
    "number = int(input(\"Enter the number you want the multiplication table from: \"))\n",
    "print(f\"Printing the table from 1 to 10 of number {number} \")\n",
    "getMultTable(number)"
   ]
  },
  {
   "cell_type": "markdown",
   "metadata": {},
   "source": [
    "### Exercise 8.2"
   ]
  },
  {
   "cell_type": "markdown",
   "metadata": {},
   "source": [
    "Write a function that gets as parameters two strings. The function returns the number of characters that the strings have in common. Each character counts only once, e.g., the strings \"bee\" and \"peer\" only have one character in common (the letter \"e\"). You can consider capitals different from lower case letters.\n",
    "\n",
    "Note: the function should *return* the number of characters that the strings have in common, and not *print* it. To test the function, you can print the result of the function in your main program."
   ]
  },
  {
   "cell_type": "code",
   "execution_count": 3,
   "metadata": {
    "tags": []
   },
   "outputs": [
    {
     "name": "stdin",
     "output_type": "stream",
     "text": [
      "Enter your first string:  Appel\n",
      "Enter your second string:  peer\n"
     ]
    },
    {
     "name": "stdout",
     "output_type": "stream",
     "text": [
      "2\n"
     ]
    }
   ],
   "source": [
    "# Common characters.\n",
    "\n",
    "def getCommonChar(s1,s2):\n",
    "    commonChar = \"\"\n",
    "    n = 0\n",
    "    for char in s1:\n",
    "        if char in s2 and char not in commonChar:\n",
    "            commonChar += char\n",
    "            n += 1\n",
    "    return(n)\n",
    "            \n",
    "string1= str(input(\"Enter your first string: \"))\n",
    "string2= str(input(\"Enter your second string: \"))\n",
    "print(getCommonChar(string1,string2))"
   ]
  },
  {
   "cell_type": "markdown",
   "metadata": {},
   "source": [
    "### Exercise 8.3"
   ]
  },
  {
   "cell_type": "markdown",
   "metadata": {},
   "source": [
    "The Grerory-Leibnitz series approximates pi as `4 * (1/1 - 1/3 + 1/5 - 1/7 + 1/9 ...)`. Write a function that returns the approximation of pi according to this series. The function gets one parameter, namely an integer that indicates how many of the terms between the parentheses must be calculated. "
   ]
  },
  {
   "cell_type": "code",
   "execution_count": 4,
   "metadata": {
    "tags": []
   },
   "outputs": [
    {
     "name": "stdout",
     "output_type": "stream",
     "text": [
      "3.141392653591791\n"
     ]
    }
   ],
   "source": [
    "# Gregory-Leibnitz.\n",
    "def approxPi(n):\n",
    "    x = 0\n",
    "    a = 1\n",
    "    for i in range(1,n+1,2):\n",
    "        if a == 1:\n",
    "            x += (1/i)\n",
    "        if a == -1:\n",
    "            x -= (1/i)\n",
    "        a *= -1\n",
    "    return(4*x)\n",
    "\n",
    "print(approxPi(10000))\n",
    "\n"
   ]
  },
  {
   "cell_type": "markdown",
   "metadata": {},
   "source": [
    "### Exercise 8.4"
   ]
  },
  {
   "cell_type": "markdown",
   "metadata": {},
   "source": [
    "As encountered in a previous exercise, the quadratic formula is used to solve quadratic equations. A quadratic equation is described by three numeric values, usually called `A`, `B`, and `C`. It has zero, one, or two solutions, depending on the discriminant (the part under the square root). Write a function that solves a quadratic equation. As parameters it gets `A`, `B`, and `C`. It returns three values. The first is an integer that indicates the number of solutions. The second is the first solution. The third is the second solution. Any of the solutions that do not exist, you can return as zero. "
   ]
  },
  {
   "cell_type": "code",
   "execution_count": 5,
   "metadata": {
    "tags": []
   },
   "outputs": [
    {
     "name": "stdin",
     "output_type": "stream",
     "text": [
      "Please enter value for A:  2\n",
      "Please enter value for B:  4\n",
      "Please enter value for C:  2\n"
     ]
    },
    {
     "name": "stdout",
     "output_type": "stream",
     "text": [
      "(1, -1.0, 0)\n"
     ]
    }
   ],
   "source": [
    "from math import sqrt\n",
    "# Quadratic equation solver.\n",
    "def solver(A,B,C):\n",
    "    D = B**2 - 4 * A * C\n",
    "    if D < 0:\n",
    "        a,b,c = 0,0,0\n",
    "    if D == 0:\n",
    "        a = 1\n",
    "        b = -B / (2*A)\n",
    "        c = 0\n",
    "    if D > 0:\n",
    "        a = 2\n",
    "        b = (-B + sqrt(D))/2*A\n",
    "        c = (-B - sqrt(D))/2*A\n",
    "    return(a,b,c)\n",
    "A = int(input(\"Please enter value for A: \"))\n",
    "B = int(input(\"Please enter value for B: \"))\n",
    "C = int(input(\"Please enter value for C: \"))\n",
    "print(solver(A,B,C))"
   ]
  },
  {
   "cell_type": "markdown",
   "metadata": {},
   "source": [
    "### Exercise 8.5"
   ]
  },
  {
   "cell_type": "markdown",
   "metadata": {},
   "source": [
    "In the previous chapter, the loop-and-a-half was explained. The final code for the example that was presented is given below, and I made the remark that there is still something ugly about this code, namely the fact that if `x` is smaller than zero or higher than 1000, the code still asks for `y` even when it can know that it has to ask a new value for `x`. I also remarked that you can resolve this in an easy way by using a function. Create a function and insert it in this code, so that this issue gets fixed. Also get rid of the `exit()` and thus the possible ugly output by introducing a `main()` function."
   ]
  },
  {
   "cell_type": "code",
   "execution_count": 6,
   "metadata": {
    "tags": []
   },
   "outputs": [
    {
     "name": "stdin",
     "output_type": "stream",
     "text": [
      "Enter number 1:  24\n",
      "Enter number 2:  283\n"
     ]
    },
    {
     "name": "stdout",
     "output_type": "stream",
     "text": [
      "Multiplication of 24 and 283 gives 6792\n"
     ]
    },
    {
     "name": "stdin",
     "output_type": "stream",
     "text": [
      "Enter number 1:  0\n"
     ]
    },
    {
     "name": "stdout",
     "output_type": "stream",
     "text": [
      "Goodbye!\n"
     ]
    }
   ],
   "source": [
    "from pcinput import getInteger\n",
    "from sys import exit\n",
    "\n",
    "def getNumber( prompt ):\n",
    "    while True:\n",
    "        num = getInteger( prompt )\n",
    "        if num < 0 or num > 1000:\n",
    "            print( \"The numbers should be between 0 and 1000\" )\n",
    "            continue\n",
    "        return num\n",
    "\n",
    "def main():\n",
    "    while True:\n",
    "        x = getNumber( \"Enter number 1: \" )\n",
    "        if x == 0:\n",
    "            break\n",
    "        y = getNumber( \"Enter number 2: \" )\n",
    "        if y == 0:\n",
    "            break   \n",
    "        if x%y == 0 or y%x == 0:\n",
    "            print( \"Error: the numbers cannot be dividers of each other\" )\n",
    "            exit()\n",
    "        print( \"Multiplication of\", x, \"and\", y, \"gives\", x * y )\n",
    "    print( \"Goodbye!\" )\n",
    "\n",
    "if __name__ == '__main__':\n",
    "    main()"
   ]
  },
  {
   "cell_type": "markdown",
   "metadata": {},
   "source": [
    "### Exercise 8.6"
   ]
  },
  {
   "cell_type": "markdown",
   "metadata": {},
   "source": [
    "In statistics, the binomial coefficient indexed by `n` and `k` (often expressed as \"n over k\", whereby `n` must be bigger than or equal to `k`) is calculated as `n!/(k!*(n-k)!)`, whereby `n!` indicates the factorial of `n`. As I explained in the previous chapter: the factorial of a positive integer is that integer, multiplied by all positive integers that are lower (excluding zero). You write the factorial as the number with an exclamation mark after it. E.g., the factorial of 5 is `5! = 5 * 4 * 3 * 2 * 1 = 120`. If you diligently did the last chapter, you wrote some code for this. Write a function that calculates the binomial coefficient for its two parameters, and returns the value. Write the code in such a way that it can be used as a module by another program (i.e., put the tests of your program in a `main()` function that is called as explained in the section on modules)."
   ]
  },
  {
   "cell_type": "code",
   "execution_count": 7,
   "metadata": {
    "tags": []
   },
   "outputs": [
    {
     "name": "stdin",
     "output_type": "stream",
     "text": [
      "What is your n value?:  2\n",
      "What is your K value?:  4\n",
      "What is your n value?:  4\n",
      "What is your K value?:  2\n"
     ]
    },
    {
     "name": "stdout",
     "output_type": "stream",
     "text": [
      "6.0\n"
     ]
    }
   ],
   "source": [
    "# Binomial coefficient.\n",
    "\n",
    "def getFactorial(x):\n",
    "    n=1\n",
    "    for i in range(x,0,-1):\n",
    "        n *= i\n",
    "    return(n)\n",
    "\n",
    "def getBinom(n,k):\n",
    "    n1 = getFactorial(n)\n",
    "    k1 = getFactorial(k)\n",
    "    nMinusk = getFactorial((n-k))\n",
    "    binom = n1 / (k1 * nMinusk)\n",
    "    return(binom)\n",
    "\n",
    "def main():\n",
    "    n, K = float('-inf'),float('inf')\n",
    "    while n<K:\n",
    "        n = int(input(\"What is your n value?: \"))\n",
    "        K = int(input(\"What is your K value?: \"))\n",
    "    print(getBinom(n,K))\n",
    "\n",
    "if __name__ == '__main__':\n",
    "    main()"
   ]
  },
  {
   "cell_type": "markdown",
   "metadata": {},
   "source": [
    "### Exercise 8.7"
   ]
  },
  {
   "cell_type": "markdown",
   "metadata": {},
   "source": [
    "What is wrong with the following code? Fix it!"
   ]
  },
  {
   "cell_type": "code",
   "execution_count": 8,
   "metadata": {
    "tags": []
   },
   "outputs": [
    {
     "name": "stdout",
     "output_type": "stream",
     "text": [
      "The area of a triangle with a bottom of 4.5 and a height of 1 is 2.25\n"
     ]
    }
   ],
   "source": [
    "# What is wrong?\n",
    "def area_of_triangle( bottom, height ):\n",
    "    area = 0.5 * bottom * height\n",
    "    return(area)\n",
    "\n",
    "height = 1\n",
    "bottom = 4.5\n",
    "print( \"The area of a triangle with a bottom of\", bottom, \"and a height of\", height, \"is\", area_of_triangle( bottom, height ) )"
   ]
  },
  {
   "cell_type": "markdown",
   "metadata": {},
   "source": [
    "Note: Code like this is typically written by students who have not yet grasped the intricacies of using functions."
   ]
  },
  {
   "cell_type": "markdown",
   "metadata": {},
   "source": [
    "---"
   ]
  },
  {
   "cell_type": "markdown",
   "metadata": {},
   "source": [
    "End of Chapter 8. Version 2.0."
   ]
  }
 ],
 "metadata": {
  "kernelspec": {
   "display_name": "Python 3 (ipykernel)",
   "language": "python",
   "name": "python3"
  },
  "language_info": {
   "codemirror_mode": {
    "name": "ipython",
    "version": 3
   },
   "file_extension": ".py",
   "mimetype": "text/x-python",
   "name": "python",
   "nbconvert_exporter": "python",
   "pygments_lexer": "ipython3",
   "version": "3.11.4"
  }
 },
 "nbformat": 4,
 "nbformat_minor": 4
}
