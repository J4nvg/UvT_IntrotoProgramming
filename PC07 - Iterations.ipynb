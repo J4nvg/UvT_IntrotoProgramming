{
 "cells": [
  {
   "cell_type": "markdown",
   "metadata": {},
   "source": [
    "## What you learned"
   ]
  },
  {
   "cell_type": "markdown",
   "metadata": {},
   "source": [
    "In this chapter, you learned about:\n",
    "\n",
    "- What loops are\n",
    "- `while` loops\n",
    "- `for` loops\n",
    "- Endless loops\n",
    "- Loop control via `else`, `break`, and `continue`\n",
    "- Nested loops\n",
    "- The loop-and-a-half\n",
    "- Being smart about loops"
   ]
  },
  {
   "cell_type": "markdown",
   "metadata": {},
   "source": [
    "-------"
   ]
  },
  {
   "cell_type": "markdown",
   "metadata": {},
   "source": [
    "## Exercises:"
   ]
  },
  {
   "cell_type": "markdown",
   "metadata": {},
   "source": [
    "Since loops are incredibly important and students often have problems with them, I provide a considerable number of exercises here. I recommend that you do them all. You will learn a lot."
   ]
  },
  {
   "cell_type": "markdown",
   "metadata": {},
   "source": [
    "### Exercise 7.1"
   ]
  },
  {
   "cell_type": "markdown",
   "metadata": {},
   "source": [
    "Write a program that lets the user enter a number. Then the program displays the multiplication table for that number from 1 to 10. E.g., when the user enters `12`, the first line printed is \"`1 * 12 = 12`\" and the last line printed is \"`10 * 12 = 120`\"."
   ]
  },
  {
   "cell_type": "code",
   "execution_count": 1,
   "metadata": {
    "tags": []
   },
   "outputs": [
    {
     "name": "stdout",
     "output_type": "stream",
     "text": [
      "Please enter a number:  10\n"
     ]
    },
    {
     "name": "stdout",
     "output_type": "stream",
     "text": [
      "10 * 1 = 10\n",
      "10 * 2 = 20\n",
      "10 * 3 = 30\n",
      "10 * 4 = 40\n",
      "10 * 5 = 50\n",
      "10 * 6 = 60\n",
      "10 * 7 = 70\n",
      "10 * 8 = 80\n",
      "10 * 9 = 90\n",
      "10 * 10 = 100\n"
     ]
    }
   ],
   "source": [
    "# Multiplication table.\n",
    "number = int(input(\"Please enter a number: \"))\n",
    "for i in range(1,11):\n",
    "    print(str(number) + \" * \"+ str(i) + \" = \" + str(i*number))\n",
    "    "
   ]
  },
  {
   "cell_type": "markdown",
   "metadata": {},
   "source": [
    "### Exercise 7.2"
   ]
  },
  {
   "cell_type": "markdown",
   "metadata": {},
   "source": [
    "If you did the previous exercise with a `while` loop, then do it again with a `for` loop. If you did it with a `for` loop, then do it again with a `while` loop. If you did not use a loop at all, you should be ashamed of yourself."
   ]
  },
  {
   "cell_type": "code",
   "execution_count": 2,
   "metadata": {
    "tags": []
   },
   "outputs": [
    {
     "name": "stdout",
     "output_type": "stream",
     "text": [
      "Please enter a number:  19\n"
     ]
    },
    {
     "name": "stdout",
     "output_type": "stream",
     "text": [
      "19 * 1 = 19\n",
      "19 * 2 = 38\n",
      "19 * 3 = 57\n",
      "19 * 4 = 76\n",
      "19 * 5 = 95\n",
      "19 * 6 = 114\n",
      "19 * 7 = 133\n",
      "19 * 8 = 152\n",
      "19 * 9 = 171\n",
      "19 * 10 = 190\n"
     ]
    }
   ],
   "source": [
    "# Multiplication table (again).\n",
    "number = int(input(\"Please enter a number: \"))\n",
    "i = 1\n",
    "while i != 11:\n",
    "    print(str(number) + \" * \"+ str(i) + \" = \" + str(i*number))\n",
    "    i += 1\n",
    "    \n",
    "    "
   ]
  },
  {
   "cell_type": "markdown",
   "metadata": {},
   "source": [
    "### Exercise 7.3"
   ]
  },
  {
   "cell_type": "markdown",
   "metadata": {},
   "source": [
    "Write a program that asks the user for ten numbers, and then prints the largest, the smallest, and how many are dividable by 3. Use the algorithm described earlier in this chapter."
   ]
  },
  {
   "cell_type": "code",
   "execution_count": 4,
   "metadata": {
    "tags": []
   },
   "outputs": [
    {
     "name": "stdout",
     "output_type": "stream",
     "text": [
      "Please enter a number:  10\n",
      "Please enter a number:  10\n",
      "Please enter a number:  10\n",
      "Please enter a number:  10\n",
      "Please enter a number:  10\n",
      "Please enter a number:  12\n",
      "Please enter a number:  13\n",
      "Please enter a number:  6\n",
      "Please enter a number:  3\n",
      "Please enter a number:  6\n"
     ]
    },
    {
     "name": "stdout",
     "output_type": "stream",
     "text": [
      "Max, min, and count divisible by 3:\n",
      "Max: 13\n",
      "Min: 3\n",
      "Count divisible by 3: 4\n"
     ]
    }
   ],
   "source": [
    "# Largest, smallest, dividable by 3.\n",
    "n = 0\n",
    "maxNumber = float('-inf') \n",
    "minNumber = float('inf')\n",
    "for i in range (0,10):\n",
    "    number = int(input(\"Please enter a number: \"))\n",
    "    if number > maxNumber:\n",
    "        maxNumber = number\n",
    "    if number < minNumber:\n",
    "        minNumber = number\n",
    "    if number % 3 == 0:\n",
    "        n += 1\n",
    "print(\"Max, min, and count divisible by 3:\")\n",
    "print(\"Max:\", maxNumber)\n",
    "print(\"Min:\", minNumber)\n",
    "print(\"Count divisible by 3:\", n)\n",
    "\n"
   ]
  },
  {
   "cell_type": "markdown",
   "metadata": {},
   "source": [
    "### Exercise 7.4"
   ]
  },
  {
   "cell_type": "markdown",
   "metadata": {},
   "source": [
    "\"99 bottles of beer\" is a traditional song in the United States and Canada. It is popular to sing on long trips, as it has a very repetitive format which is easy to memorize, and can take a long time to sing. The song's simple lyrics are as follows: \"99 bottles of beer on the wall, 99 bottles of beer. Take one down, pass it around, 98 bottles of beer on the wall.\" The same verse is repeated, each time with one fewer bottle. The song is completed when the singer or singers reach zero. Write a program that generates all the verses of the song (though you might start a bit lower, for instance with 10 bottles). Make sure that your loop is not endless, and that you use the proper inflection for the word \"bottle\"."
   ]
  },
  {
   "cell_type": "code",
   "execution_count": 5,
   "metadata": {
    "tags": []
   },
   "outputs": [
    {
     "name": "stdout",
     "output_type": "stream",
     "text": [
      "How many bottles?:  10\n"
     ]
    },
    {
     "name": "stdout",
     "output_type": "stream",
     "text": [
      "### 99 Bottles of beer: ###\n",
      "10 bottles of beer on the wall, 10 bottles of beer. Take one down, pass it around, 9 bottles of beer on the wall.\n",
      "9 bottles of beer on the wall, 9 bottles of beer. Take one down, pass it around, 8 bottles of beer on the wall.\n",
      "8 bottles of beer on the wall, 8 bottles of beer. Take one down, pass it around, 7 bottles of beer on the wall.\n",
      "7 bottles of beer on the wall, 7 bottles of beer. Take one down, pass it around, 6 bottles of beer on the wall.\n",
      "6 bottles of beer on the wall, 6 bottles of beer. Take one down, pass it around, 5 bottles of beer on the wall.\n",
      "5 bottles of beer on the wall, 5 bottles of beer. Take one down, pass it around, 4 bottles of beer on the wall.\n",
      "4 bottles of beer on the wall, 4 bottles of beer. Take one down, pass it around, 3 bottles of beer on the wall.\n",
      "3 bottles of beer on the wall, 3 bottles of beer. Take one down, pass it around, 2 bottles of beer on the wall.\n",
      "2 bottles of beer on the wall, 2 bottles of beer. Take one down, pass it around, 1 bottles of beer on the wall.\n",
      "1 bottles of beer on the wall, 1 bottles of beer. Take one down, pass it around, 0 bottles of beer on the wall.\n",
      "### That was the song ###\n"
     ]
    }
   ],
   "source": [
    "# Bottles of beer.\n",
    "bottles = int(input(\"How many bottles?: \"))\n",
    "print(\"### 99 Bottles of beer: ###\")\n",
    "for i in range (bottles,0,-1):\n",
    "    print(str(i) +\" bottles of beer on the wall, \"+ str(i) +\" bottles of beer. Take one down, pass it around, \"+ str(i-1)+\" bottles of beer on the wall.\")\n",
    "print(\"### That was the song ###\")"
   ]
  },
  {
   "cell_type": "markdown",
   "metadata": {},
   "source": [
    "### Exercise 7.5"
   ]
  },
  {
   "cell_type": "markdown",
   "metadata": {},
   "source": [
    "The Fibonacci sequence is a sequence of numbers that starts with 1, followed by 1 again. Every next number is the sum of the two previous numbers. I.e., the sequence starts with 1, 1, 2, 3, 5, 8, 13, 21,... Write a program that calculates and prints the Fibonacci sequence until the numbers get higher than 1000."
   ]
  },
  {
   "cell_type": "code",
   "execution_count": 6,
   "metadata": {
    "tags": []
   },
   "outputs": [
    {
     "name": "stdout",
     "output_type": "stream",
     "text": [
      "1\n",
      "1\n",
      "2\n",
      "3\n",
      "5\n",
      "8\n",
      "13\n",
      "21\n",
      "34\n",
      "55\n",
      "89\n",
      "144\n",
      "233\n",
      "377\n",
      "610\n",
      "987\n"
     ]
    }
   ],
   "source": [
    "# Fibonacci.\n",
    "a, b = 1,1\n",
    "print(a)\n",
    "print(b)\n",
    "c = 0\n",
    "while a + b < 1000:\n",
    "    c = a + b\n",
    "    print(c)\n",
    "    a = b\n",
    "    b = c\n",
    "    "
   ]
  },
  {
   "cell_type": "markdown",
   "metadata": {},
   "source": [
    "### Exercise 7.6"
   ]
  },
  {
   "cell_type": "markdown",
   "metadata": {},
   "source": [
    "Write a program that asks the user for two words. Then print all the characters that the words have in common. You can consider capitals different from lower case letters, but each character that you report, should be reported only once (e.g., the strings \"bee\" and \"peer\" only have one character in common, namely the letter \"e\"). Hint: Gather the characters in a third string, and when you find a character that the two words have in common, check if it is already in the third string before reporting it."
   ]
  },
  {
   "cell_type": "code",
   "execution_count": 7,
   "metadata": {
    "tags": []
   },
   "outputs": [
    {
     "name": "stdout",
     "output_type": "stream",
     "text": [
      "### Lets try to find some common characters! ###\n"
     ]
    },
    {
     "name": "stdout",
     "output_type": "stream",
     "text": [
      "Enter the first word:  Sinaasappel\n",
      "Enter the seccond word:  Banaan\n"
     ]
    },
    {
     "name": "stdout",
     "output_type": "stream",
     "text": [
      "### the common characters are: ###\n",
      "n, a\n",
      "--- --- END --- ---\n"
     ]
    }
   ],
   "source": [
    "# Common characters.\n",
    "print(\"### Lets try to find some common characters! ###\")\n",
    "wordOne = input(\"Enter the first word: \")\n",
    "wordTwo = input(\"Enter the seccond word: \")\n",
    "commonChar = \"\"\n",
    "for char in wordOne:\n",
    "    if char in wordTwo and char not in commonChar:\n",
    "        if len(commonChar):\n",
    "            commonChar += \", \"\n",
    "        commonChar += char \n",
    "if commonChar != \"\":\n",
    "    print(\"### the common characters are: ###\")\n",
    "    print(commonChar)\n",
    "else:\n",
    "    print(\"There are no common characters\")\n",
    "print(\"--- --- END --- ---\")\n",
    "        "
   ]
  },
  {
   "cell_type": "markdown",
   "metadata": {},
   "source": [
    "### Exercise 7.7"
   ]
  },
  {
   "cell_type": "markdown",
   "metadata": {},
   "source": [
    "Write a program that approximates the value of `pi` by using random numbers, as follows. Consider a square measuring 1 by 1. If you throw a dart into that square in a random location, the probability that it will have a distance of 1 or less to the lower left corner is `pi/4`. To see why that is, remember that the area of a circle with a radius of 1 is `pi`, so the area of a quarter circle is `pi/4`. Thus, if a dart lands in a random point in the square, the chance that it lands in the quarter circle with its centre at the lower left corner is `pi/4`. Therefore, if you throw `N` darts into the square, and `M` of those land inside a distance of 1 to the lower left corner, then `4M/N` approximates `pi` if `N` is very large. \n",
    "\n",
    "The program holds a constant that determines how many darts it will simulate. It prints an approximation of `pi` derived by simulating the throwing of that number of darts. Remember that the distance of a point `(x,y)` to the lower-left corner is calculated as `sqrt( x*x + y*y )`. Use the `random()` function from the `random` module.\n",
    "\n",
    "<img src=\"img/pi4.png\" alt=\"quarter circle\" style=\"width:100px;\">"
   ]
  },
  {
   "cell_type": "code",
   "execution_count": 8,
   "metadata": {
    "tags": []
   },
   "outputs": [
    {
     "name": "stdout",
     "output_type": "stream",
     "text": [
      "How many darts will you throw?:  100\n"
     ]
    },
    {
     "name": "stdout",
     "output_type": "stream",
     "text": [
      "An approximation of pi using 100 darts got us: 3.16\n"
     ]
    }
   ],
   "source": [
    "# Approximation of pi.\n",
    "import random\n",
    "import math\n",
    "nDarts = int(input(\"How many darts will you throw?: \"))\n",
    "nInCircle = 0\n",
    "for n in range(nDarts+1):\n",
    "    x = random.random()\n",
    "    y = random.random()\n",
    "    d = math.sqrt(x*x + y*y)\n",
    "    if d <= 1:\n",
    "        nInCircle += 1\n",
    "approx = 4*nInCircle/nDarts\n",
    "print(f\"An approximation of pi using {nDarts} darts got us: {approx}\")"
   ]
  },
  {
   "cell_type": "markdown",
   "metadata": {},
   "source": [
    "### Exercise 7.8"
   ]
  },
  {
   "cell_type": "markdown",
   "metadata": {},
   "source": [
    "Write a program that takes a random integer between 1 and 1000 (you can use the `randint()` function for that). The program then asks the user to guess the number. After every guess, the program will say either \"Lower\" if the number it took is lower, \"Higher\" if the number it took is higher, and \"You guessed it!\" if the number it took is equal to the number that the user entered. It will end with displaying how many guesses the user needed. It might be wise, for testing purposes, to also display the number that the program randomly picks, until you are sure that the program works correctly. "
   ]
  },
  {
   "cell_type": "code",
   "execution_count": 9,
   "metadata": {
    "tags": []
   },
   "outputs": [
    {
     "name": "stdout",
     "output_type": "stream",
     "text": [
      "Guess the value:  10\n"
     ]
    },
    {
     "name": "stdout",
     "output_type": "stream",
     "text": [
      "Higher! \n"
     ]
    },
    {
     "name": "stdout",
     "output_type": "stream",
     "text": [
      "Guess the value:  20\n"
     ]
    },
    {
     "name": "stdout",
     "output_type": "stream",
     "text": [
      "Higher! \n"
     ]
    },
    {
     "name": "stdout",
     "output_type": "stream",
     "text": [
      "Guess the value:  100\n"
     ]
    },
    {
     "name": "stdout",
     "output_type": "stream",
     "text": [
      "Higher! \n"
     ]
    },
    {
     "name": "stdout",
     "output_type": "stream",
     "text": [
      "Guess the value:  500\n"
     ]
    },
    {
     "name": "stdout",
     "output_type": "stream",
     "text": [
      "Higher! \n"
     ]
    },
    {
     "name": "stdout",
     "output_type": "stream",
     "text": [
      "Guess the value:  800\n"
     ]
    },
    {
     "name": "stdout",
     "output_type": "stream",
     "text": [
      "Lower! \n"
     ]
    },
    {
     "name": "stdout",
     "output_type": "stream",
     "text": [
      "Guess the value:  600\n"
     ]
    },
    {
     "name": "stdout",
     "output_type": "stream",
     "text": [
      "Higher! \n"
     ]
    },
    {
     "name": "stdout",
     "output_type": "stream",
     "text": [
      "Guess the value:  700\n"
     ]
    },
    {
     "name": "stdout",
     "output_type": "stream",
     "text": [
      "Higher! \n"
     ]
    },
    {
     "name": "stdout",
     "output_type": "stream",
     "text": [
      "Guess the value:  800\n"
     ]
    },
    {
     "name": "stdout",
     "output_type": "stream",
     "text": [
      "Lower! \n"
     ]
    },
    {
     "name": "stdout",
     "output_type": "stream",
     "text": [
      "Guess the value:  750\n"
     ]
    },
    {
     "name": "stdout",
     "output_type": "stream",
     "text": [
      "Lower! \n"
     ]
    },
    {
     "name": "stdout",
     "output_type": "stream",
     "text": [
      "Guess the value:  740\n"
     ]
    },
    {
     "name": "stdout",
     "output_type": "stream",
     "text": [
      "Lower! \n"
     ]
    },
    {
     "name": "stdout",
     "output_type": "stream",
     "text": [
      "Guess the value:  730\n"
     ]
    },
    {
     "name": "stdout",
     "output_type": "stream",
     "text": [
      "Higher! \n"
     ]
    },
    {
     "name": "stdout",
     "output_type": "stream",
     "text": [
      "Guess the value:  735\n"
     ]
    },
    {
     "name": "stdout",
     "output_type": "stream",
     "text": [
      "Lower! \n"
     ]
    },
    {
     "name": "stdout",
     "output_type": "stream",
     "text": [
      "Guess the value:  634\n"
     ]
    },
    {
     "name": "stdout",
     "output_type": "stream",
     "text": [
      "Higher! \n"
     ]
    },
    {
     "name": "stdout",
     "output_type": "stream",
     "text": [
      "Guess the value:  734\n"
     ]
    },
    {
     "name": "stdout",
     "output_type": "stream",
     "text": [
      "Lower! \n"
     ]
    },
    {
     "name": "stdout",
     "output_type": "stream",
     "text": [
      "Guess the value:  733\n"
     ]
    },
    {
     "name": "stdout",
     "output_type": "stream",
     "text": [
      "Lower! \n"
     ]
    },
    {
     "name": "stdout",
     "output_type": "stream",
     "text": [
      "Guess the value:  732\n"
     ]
    },
    {
     "name": "stdout",
     "output_type": "stream",
     "text": [
      "You got it!\n"
     ]
    }
   ],
   "source": [
    "# Number guessing.\n",
    "import random \n",
    "randomValue = random.randint(0,1000)\n",
    "guess = \"\"\n",
    "while guess != randomValue:\n",
    "    guess = int(input(\"Guess the value: \"))\n",
    "    if guess > randomValue:\n",
    "        print(\"Lower! \")\n",
    "    if guess < randomValue:\n",
    "        print(\"Higher! \")\n",
    "print(\"You got it!\")"
   ]
  },
  {
   "cell_type": "markdown",
   "metadata": {},
   "source": [
    "### Exercise 7.9"
   ]
  },
  {
   "cell_type": "markdown",
   "metadata": {},
   "source": [
    "Write a program that is the opposite of the previous one: now *you* take a number in mind, and the computer will try to guess it. You respond to the computer's guesses by entering a letter: \"L\" for lower, \"H\" for higher, and \"C\" for correct (you can use the `getLetter()` function from `pcinput` for that). Once the computer has guessed your number, it displays how many guesses it needed. Make sure that you let the computer recognize when there is no answer (maybe because you made a mistake or because you tried to fool the computer)."
   ]
  },
  {
   "cell_type": "code",
   "execution_count": 10,
   "metadata": {
    "tags": []
   },
   "outputs": [
    {
     "name": "stdout",
     "output_type": "stream",
     "text": [
      "500\n"
     ]
    },
    {
     "name": "stdout",
     "output_type": "stream",
     "text": [
      "Enter either L, H or C:  C\n"
     ]
    },
    {
     "name": "stdout",
     "output_type": "stream",
     "text": [
      "It took the computer 1 guesses \n"
     ]
    }
   ],
   "source": [
    "# Opposite number guessing.\n",
    "import pcinput\n",
    "maxNum = 1000\n",
    "minNum = 0\n",
    "hint = \"\"\n",
    "n = 0\n",
    "while hint != \"C\":\n",
    "    guess = (maxNum + minNum)/2\n",
    "    print(int(guess))\n",
    "    hint = pcinput.getLetter(\"Enter either L, H or C: \")\n",
    "    if hint == \"H\":\n",
    "        minNum = guess\n",
    "    elif hint == \"L\":\n",
    "        maxNum = guess\n",
    "    n += 1\n",
    "print(f\"It took the computer {n} guesses \")"
   ]
  },
  {
   "cell_type": "markdown",
   "metadata": {},
   "source": [
    "### Exercise 7.10"
   ]
  },
  {
   "cell_type": "markdown",
   "metadata": {},
   "source": [
    "A prime number is a positive integer that is dividable by exactly two different numbers, namely 1 and itself. The lowest (and only even) prime number is 2. The first 10 prime numbers are 2, 3, 5, 7, 11, 13, 17, 19, 23, and 29. Write a program that asks the user for a number and then displays whether or not it is prime. Hint: In a loop where you test the possible dividers of the number, you can conclude that the number is not prime as soon as you encounter a number other than 1 or itself that divides it. However, you can *only* conclude that it actually *is* prime after you have tested all possible dividers."
   ]
  },
  {
   "cell_type": "code",
   "execution_count": 11,
   "metadata": {
    "tags": []
   },
   "outputs": [
    {
     "name": "stdout",
     "output_type": "stream",
     "text": [
      "Enter your number:  3\n"
     ]
    },
    {
     "name": "stdout",
     "output_type": "stream",
     "text": [
      "### Let's see if it is a prime or not ###\n",
      "Your number is a prime number.\n"
     ]
    }
   ],
   "source": [
    "is_prime = False\n",
    "number = int(input(\"Enter your number: \"))\n",
    "print(\"### Let's see if it is a prime or not ###\")\n",
    "if number < 2:\n",
    "    is_prime = False\n",
    "else:\n",
    "    for n in range(2, number):\n",
    "        check = number % n\n",
    "        if check == 0:\n",
    "            is_prime = False\n",
    "            break\n",
    "    else:\n",
    "        is_prime = True\n",
    "if is_prime:\n",
    "    print(\"Your number is a prime number.\")\n",
    "elif is_prime == False:\n",
    "    print(\"Your number is not a prime.\")"
   ]
  },
  {
   "cell_type": "markdown",
   "metadata": {},
   "source": [
    "### Exercise 7.11"
   ]
  },
  {
   "cell_type": "markdown",
   "metadata": {},
   "source": [
    "Write a program that prints a multiplication table for digits 1 to a certain number `num` (you may assume for the output that num is one digit). A multiplication table for the numbers 1 to `num = 3` looks as follows:\n",
    "\n",
    "`. |  1  2  3`<br>\n",
    "`------------`<br>\n",
    "`1 |  1  2  3`<br>\n",
    "`2 |  2  4  6`<br>\n",
    "`3 |  3  6  9`\n",
    "\n",
    "So the labels on the rows are multiplied by the labels on the columns, and the result is shown in the cell that is on that row/column combination. "
   ]
  },
  {
   "cell_type": "code",
   "execution_count": 12,
   "metadata": {
    "tags": []
   },
   "outputs": [
    {
     "name": "stdout",
     "output_type": "stream",
     "text": [
      " . |  1  2  3  4  5  6  7  8  9\n",
      "-------------------------------\n",
      " 1 |  1  2  3  4  5  6  7  8  9\n",
      " 2 |  2  4  6  8 10 12 14 16 18\n",
      " 3 |  3  6  9 12 15 18 21 24 27\n",
      " 4 |  4  8 12 16 20 24 28 32 36\n",
      " 5 |  5 10 15 20 25 30 35 40 45\n",
      " 6 |  6 12 18 24 30 36 42 48 54\n",
      " 7 |  7 14 21 28 35 42 49 56 63\n",
      " 8 |  8 16 24 32 40 48 56 64 72\n",
      " 9 |  9 18 27 36 45 54 63 72 81\n"
     ]
    }
   ],
   "source": [
    "# Multiplication table.\n",
    "num = 9\n",
    "\n",
    "header = \" . |\"\n",
    "for n in range(1, num+1):\n",
    "    header += f\"{n:3}\"\n",
    "print(header)\n",
    "print(\"-\"*len(header))\n",
    "for y in range(1,num+1):\n",
    "    display = f\"{y:2} |\"\n",
    "    for x in range(1,num+1):\n",
    "        display += f\" {x*y:2}\"\n",
    "    print(display)"
   ]
  },
  {
   "cell_type": "markdown",
   "metadata": {},
   "source": [
    "### Exercise 7.12"
   ]
  },
  {
   "cell_type": "markdown",
   "metadata": {},
   "source": [
    "Write a program that displays all integers between 1 and 100 that can be written as the sum of two squares. Produce output in the form of `z = x**2 + y**2`, e.g., `58 = 3**2 + 7**2`. If a number occurs on the list with multiple *different* ways of writing it as the sum of two squares, that is acceptable. "
   ]
  },
  {
   "cell_type": "code",
   "execution_count": 13,
   "metadata": {
    "tags": []
   },
   "outputs": [
    {
     "name": "stdout",
     "output_type": "stream",
     "text": [
      " 2 =  1^2 +  1^2\n",
      " 5 =  1^2 +  2^2\n",
      " 8 =  2^2 +  2^2\n",
      "10 =  1^2 +  3^2\n",
      "13 =  2^2 +  3^2\n",
      "17 =  1^2 +  4^2\n",
      "18 =  3^2 +  3^2\n",
      "20 =  2^2 +  4^2\n",
      "25 =  3^2 +  4^2\n",
      "26 =  1^2 +  5^2\n",
      "29 =  2^2 +  5^2\n",
      "32 =  4^2 +  4^2\n",
      "34 =  3^2 +  5^2\n",
      "37 =  1^2 +  6^2\n",
      "40 =  2^2 +  6^2\n",
      "41 =  4^2 +  5^2\n",
      "45 =  3^2 +  6^2\n",
      "50 =  1^2 +  7^2\n",
      "50 =  5^2 +  5^2\n",
      "52 =  4^2 +  6^2\n",
      "53 =  2^2 +  7^2\n",
      "58 =  3^2 +  7^2\n",
      "61 =  5^2 +  6^2\n",
      "65 =  1^2 +  8^2\n",
      "65 =  4^2 +  7^2\n",
      "68 =  2^2 +  8^2\n",
      "72 =  6^2 +  6^2\n",
      "73 =  3^2 +  8^2\n",
      "74 =  5^2 +  7^2\n",
      "80 =  4^2 +  8^2\n",
      "82 =  1^2 +  9^2\n",
      "85 =  2^2 +  9^2\n",
      "85 =  6^2 +  7^2\n",
      "89 =  5^2 +  8^2\n",
      "90 =  3^2 +  9^2\n",
      "97 =  4^2 +  9^2\n",
      "98 =  7^2 +  7^2\n",
      "100 =  6^2 +  8^2\n"
     ]
    }
   ],
   "source": [
    "# Sum of two squares.\n",
    "import math\n",
    "for n in range(1, 101):\n",
    "    for i in range(1, int(math.sqrt(n)) + 1):\n",
    "        for j in range(i, int(math.sqrt(n)) + 1):\n",
    "            if i**2 + j**2 == n:\n",
    "                print(f\"{n:2} = {i:2}^2 + {j:2}^2\")\n",
    "        \n"
   ]
  },
  {
   "cell_type": "markdown",
   "metadata": {},
   "source": [
    "### Exercise 7.13"
   ]
  },
  {
   "cell_type": "markdown",
   "metadata": {},
   "source": [
    "You roll five six-sided dice, one by one. How big is the probability that the value of each die is greater than or equal to the value of the previous die that you rolled? For example, the sequence \"1, 1, 4, 4, 6\" is a success, but \"1, 1, 4, 3, 6\" is not. Determine the probability of success using a simulation of a large number of trials. "
   ]
  },
  {
   "cell_type": "code",
   "execution_count": 14,
   "metadata": {
    "tags": []
   },
   "outputs": [
    {
     "name": "stdout",
     "output_type": "stream",
     "text": [
      "What is the trail size?:  1000\n"
     ]
    },
    {
     "name": "stdout",
     "output_type": "stream",
     "text": [
      "The probability is: 0.526\n"
     ]
    }
   ],
   "source": [
    "# Increasing die values.\n",
    "import random\n",
    "sRate = 0\n",
    "n = int(input(\"What is the trail size?: \"))\n",
    "for i in range(n+1):\n",
    "        dieOne = [random.randint(1,6) for _ in range(5)]\n",
    "        dieTwo = [random.randint(1,6) for _ in range(5)]\n",
    "        #print(\"DieOne, DieTwo\",dieOne,dieTwo )\n",
    "        is_succes = all(dieTwo >= dieOne for j in range(5))\n",
    "       # print(is_succes)\n",
    "        if is_succes:\n",
    "            sRate += 1\n",
    "print(\"The probability is: \" + str(sRate/n))"
   ]
  },
  {
   "cell_type": "markdown",
   "metadata": {},
   "source": [
    "### Exercise 7.14"
   ]
  },
  {
   "cell_type": "markdown",
   "metadata": {},
   "source": [
    "A, B, C, and D are all different digits. The number DCBA is equal to 4 times the number ABCD. What are the digits? Note: to make ABCD and DCBA conventional numbers, neither A nor D can be zero. Use a quadruple-nested loop."
   ]
  },
  {
   "cell_type": "code",
   "execution_count": 15,
   "metadata": {
    "tags": []
   },
   "outputs": [
    {
     "name": "stdout",
     "output_type": "stream",
     "text": [
      "A =  2, B =  1, C =  7, D =  8\n"
     ]
    }
   ],
   "source": [
    "# Solve 4*ABCD == DCBA.\n",
    "for A in range(1,10):\n",
    "    for B in range(10):\n",
    "        if A == B:\n",
    "            continue\n",
    "        for C in range(10):\n",
    "            if C == B or C == A:\n",
    "                continue\n",
    "            for D in range(10):\n",
    "                if D == C or D == B or D == A:\n",
    "                    continue\n",
    "                numOne = 1000*A + 100*B + 10*C + D\n",
    "                numTwo = 1000*D + 100*C + 10*B + A\n",
    "                if numOne * 4 == numTwo:\n",
    "                    print(f\"A = {A:2}, B = {B:2}, C = {C:2}, D = {D:2}\")\n",
    "                \n"
   ]
  },
  {
   "cell_type": "markdown",
   "metadata": {},
   "source": [
    "### Exercise 7.15"
   ]
  },
  {
   "cell_type": "markdown",
   "metadata": {},
   "source": [
    "According to an old puzzle, five pirates and their monkey are stranded on an island. During the day they gather coconuts, which they put in a big pile. When night falls, they go asleep. \n",
    "\n",
    "In the middle of the night, the first pirate wakes up, and, not trusting his buddies, he divides the pile into five equal parts, takes what he believes to be his share and hides it. Since he had one coconut left after the division, he gives it to the monkey. Then he goes back to sleep.\n",
    "\n",
    "An hour later, the next pirate wakes up. He behaves in the same way as the first pirate: he divides the pile into five equal shares, with one coconut left over which he gives to the monkey, hides what he believes to be his share, and goes to sleep again.\n",
    "\n",
    "The same happens to the other pirates: they wake up one by one, divide the pile, give one coconut to the monkey, hide their share, and go back to sleep.\n",
    "\n",
    "In the morning they all wake up. They divide what remains of the coconuts equally among them. Since that leaves one coconut, they give it to the monkey.\n",
    "\n",
    "The question is: what is the smallest number of coconuts that they can have started with?\n",
    "\n",
    "Write a Python program that solves this puzzle. If you can solve it for any number of pirates, all the better."
   ]
  },
  {
   "cell_type": "code",
   "execution_count": 16,
   "metadata": {
    "tags": []
   },
   "outputs": [
    {
     "name": "stdout",
     "output_type": "stream",
     "text": [
      "Coconuts:  15621\n"
     ]
    }
   ],
   "source": [
    "# The monkey and the coconuts.\n",
    "pirates = 5\n",
    "coconuts = 0\n",
    "\n",
    "while True:\n",
    "    coconuts += 1\n",
    "    pile = coconuts\n",
    "    for i in range( pirates ):\n",
    "        if pile % pirates != 1:\n",
    "            break\n",
    "        pile = (pirates-1) * int((pile-1) / pirates)\n",
    "    if pile % pirates == 1:\n",
    "        break\n",
    "print(\"Coconuts: \", coconuts)"
   ]
  },
  {
   "cell_type": "markdown",
   "metadata": {},
   "source": [
    "### Exercise 7.16"
   ]
  },
  {
   "cell_type": "markdown",
   "metadata": {},
   "source": [
    "Consider the triangle shown below. This triangle houses a colony of Triangle Crawlers, and one big Eater of Triangle Crawlers. The Eater is located in point D. All Triangle Crawlers are born in point A. A Triangle Crawler which ends up in point D gets eaten. \n",
    "\n",
    "Every day, each Triangle Crawler moves over one of the lines to a randomly-determined neighboring point, but not to the point where he was the day before. This movement takes one day. For instance, a Triangle Crawler that was just born in A, on the first day of his life will move to B, C, or D. If he moves to B, the next day he will move to C or D (but not back to A). If on his first day he moves to C instead, the next day he will move to B or D (but not back to A). If he moves to D, he gets eaten.\n",
    "\n",
    "There is a one-third probability that Triangle Crawler on the first day of his life immediately goes to D, and therefore only lives one day. In principle, a Triangle Crawler may reach any age, however high, by moving in circles from A to B to C and back to A again (or counterclockwise, from A to C to B and back to A again). However, since every day he makes a random choice between the two possible follow-up directions, every day after the first there is a one-half probability that he ends up in point D, and dies.\n",
    "\n",
    "Write a program that calculates an approximation of the average age that a Triangle Crawler reaches. Do this by simulating the lives of 100,000 Triangle Crawlers, counting the days that they live, and dividing the total by 100,000. The output of your program should be a single floating point number, rounded to two decimals. \n",
    "\n",
    "Hint 1: You can follow two different approaches: either you simulate the behavior of one single Triangle Crawler and repeat that 100,000 times, or you start with a population of 100,000 triangle crawlers in point A, and divide these over variables that keep track of how many Triangles are in each point, each day, including the point that they came from (assigning a remaining odd Triangle Crawler to a randomly determined neighboring point). The first method is short and simple but slow, the second is long and complex but fast. You may use either method.\n",
    "\n",
    "Hint 2: Do not use 100,000 Triangle Crawlers in your first attempts. Start with 1000 (or even only 1), and only try it out with 100,000 once your program is more or less finished. Testing is much quicker with fewer Triangle Crawlers. 1000 Triangle Crawlers should be done in under a second, so if your program takes longer, you probably have created an endless loop.\n",
    "\n",
    "Hint 3: I won't be too specific, but the final answer is somewhere between 1 and 5 days. If you get something outside that range, it is definitely wrong. You may try to determine the exact answer mathematically before starting on the exercise, which is doable though quite hard.\n",
    "\n",
    "<img src=\"img/Triangle.png\" alt=\"Triangle\" style=\"width:200px;\">"
   ]
  },
  {
   "cell_type": "code",
   "execution_count": 19,
   "metadata": {
    "tags": []
   },
   "outputs": [
    {
     "name": "stdout",
     "output_type": "stream",
     "text": [
      "The average age with 100000 triangle crawlers is: 2.33286\n"
     ]
    }
   ],
   "source": [
    "# Triangle crawlers.\n",
    "# Triangle crawlers.\n",
    "import random\n",
    "\n",
    "n = 100000\n",
    "totalAge = n\n",
    "\n",
    "for i in range(n):\n",
    "    if random.randint(0,2): # 0 is D and thus dead\n",
    "        totalAge += 1\n",
    "        while random.randint(0,1): # only two choices left..\n",
    "            totalAge += 1\n",
    "avg = totalAge / n\n",
    "print(f\"The average age with {n} triangle crawlers is: {avg:2}\")   \n",
    "        \n",
    "            "
   ]
  },
  {
   "cell_type": "markdown",
   "metadata": {},
   "source": [
    "---"
   ]
  },
  {
   "cell_type": "markdown",
   "metadata": {},
   "source": [
    "## Python 2"
   ]
  },
  {
   "cell_type": "markdown",
   "metadata": {},
   "source": [
    "In Python 3, the `range()` function is an iterator. This entails that it needs very little memory space: it only retains the last number generated, the step size, and the limit that it should reach. In Python 2 `range()` is implemented differently: it produces all the numbers of the range in memory at once. This means that a statement like `range(1000000000)` in Python 2 requires so much memory that it may very well crash the program. In Python 3, such issues do not exist. In Python 2 it is therefore recommended not to use `range()` for more than 10,000 numbers or so, while in Python 3 no restrictions exist."
   ]
  },
  {
   "cell_type": "markdown",
   "metadata": {},
   "source": [
    "---"
   ]
  },
  {
   "cell_type": "markdown",
   "metadata": {},
   "source": [
    "End of Chapter 7. Version 1.3."
   ]
  }
 ],
 "metadata": {
  "kernelspec": {
   "display_name": "Python 3 (ipykernel)",
   "language": "python",
   "name": "python3"
  },
  "language_info": {
   "codemirror_mode": {
    "name": "ipython",
    "version": 3
   },
   "file_extension": ".py",
   "mimetype": "text/x-python",
   "name": "python",
   "nbconvert_exporter": "python",
   "pygments_lexer": "ipython3",
   "version": "3.11.4"
  }
 },
 "nbformat": 4,
 "nbformat_minor": 4
}
