{
 "cells": [
  {
   "cell_type": "markdown",
   "metadata": {},
   "source": [
    "## Exercises:"
   ]
  },
  {
   "cell_type": "markdown",
   "metadata": {},
   "source": [
    "### Exercise 10.1"
   ]
  },
  {
   "cell_type": "markdown",
   "metadata": {},
   "source": [
    "Count how many of each vowel (`a`, `e`, `i`, `o`, `u`) there are in the text string in the next cell, and print the count for each vowel with a single formatted string. Remember that vowels can be both lower and uppercase."
   ]
  },
  {
   "cell_type": "code",
   "execution_count": 96,
   "metadata": {
    "tags": []
   },
   "outputs": [
    {
     "name": "stdout",
     "output_type": "stream",
     "text": [
      "There are 32 a('s),There are 23 e('s),There are 18 i('s),There are 12 o('s),There are 6 u('s) in the text.\n",
      "A total of: 91 vowels.\n"
     ]
    }
   ],
   "source": [
    "# Counting vowels.\n",
    "text = \"\"\"And Saint Attila raised the hand grenade up on high,\n",
    "saying, \"O Lord, bless this thy hand grenade, that with it\n",
    "thou mayst blow thine enemies to tiny bits, in thy mercy.\" \n",
    "And the Lord did grin. And the people did feast upon the lambs, \n",
    "and sloths, and carp, and anchovies, and orangutans, and \n",
    "breakfast cereals, and fruit bats, and large chu...\"\"\"\n",
    "A = ['a','A']\n",
    "E = ['e','E']\n",
    "I = ['i','I']\n",
    "O = ['o','O']\n",
    "U = ['u','U']\n",
    "Acnt, Ecnt, Icnt,Ocnt,Ucnt = 0,0,0,0,0\n",
    "\n",
    "for char in text:\n",
    "    if char in A:\n",
    "        Acnt += 1\n",
    "    if char in E:\n",
    "        Ecnt += 1\n",
    "    if char in I:\n",
    "        Icnt += 1\n",
    "    if char in O:\n",
    "        Ocnt += 1\n",
    "    if char in U:\n",
    "        Ucnt += 1\n",
    "print(f\"There are {Acnt} a('s),There are {Ecnt} e('s),There are {Icnt} i('s),There are {Ocnt} o('s),There are {Ucnt} u('s) in the text.\\nA total of: {Acnt+Ecnt+Ucnt+Ocnt+Icnt} vowels.\")\n"
   ]
  },
  {
   "cell_type": "markdown",
   "metadata": {},
   "source": [
    "### Exercise 10.2"
   ]
  },
  {
   "cell_type": "markdown",
   "metadata": {},
   "source": [
    "The text string in the next cell contains several words which are enclosed by square brackets (`[` and `]`). Scan the string and print out all words which are between square brackets. For example, if the text string would be \"`[a]n example[ string]`\", you are expected to print out \"`a string`\"."
   ]
  },
  {
   "cell_type": "code",
   "execution_count": 112,
   "metadata": {
    "tags": []
   },
   "outputs": [
    {
     "name": "stdout",
     "output_type": "stream",
     "text": [
      "Never gonna  give you up\n",
      " Never  gonna let  you down\n",
      " Never  gonna  run around  and desert you \n"
     ]
    }
   ],
   "source": [
    "# Distilling text.\n",
    "text = \"\"\"The quick, brown fox jumps over a lazy dog. DJs flock by when MTV ax quiz prog. \n",
    "Junk MTV quiz graced by fox whelps. [Never gonna ] Bawds jog, flick quartz, vex nymphs. \n",
    "[give you up\\n] Waltz, bad nymph, for quick jigs vex! Fox nymphs grab quick-jived waltz. \n",
    "Brick quiz whangs jumpy veldt fox. [Never ] Bright vixens jump; [gonna let ] dozy fowl \n",
    "quack. Quick wafting zephyrs vex bold Jim. Quick zephyrs blow, vexing daft Jim. Charged \n",
    "[you down\\n] fop blew my junk TV quiz. How quickly daft jumping zebras vex. Two driven \n",
    "jocks help fax my big quiz. Quick, Baz, get my woven flax jodhpurs! \"Now fax quiz Jack!\" \n",
    "my brave ghost pled. [Never ] Five quacking zephyrs jolt my wax bed. [gonna ] Flummoxed \n",
    "by job, kvetching W. zaps Iraq. Cozy sphinx waves quart jug of bad milk. [run around ] \n",
    "A very bad quack might jinx zippy fowls. Few quips galvanized the mock jury box. Quick \n",
    "brown dogs jump over the lazy fox. The jay, pig, fox, zebra, and my wolves quack! \n",
    "[and desert you] Blowzy red vixens fight for a quick jump. Joaquin Phoenix was gazed \n",
    "by MTV for luck. A wizard’s job is to vex chumps quickly in fog. Watch \"Jeopardy!\", \n",
    "Alex Trebek's fun TV quiz game.\"\"\"\n",
    "\n",
    "i = -1\n",
    "display = ''\n",
    "inside_brackets = False\n",
    "for char in text:\n",
    "    i+= 1\n",
    "    if char == \"[\":\n",
    "        inside_brackets = True\n",
    "        continue\n",
    "    if char == \"]\":\n",
    "        inside_brackets = False\n",
    "        display += ' '\n",
    "    if inside_brackets:\n",
    "        display += char\n",
    "print(display)"
   ]
  },
  {
   "cell_type": "markdown",
   "metadata": {},
   "source": [
    "### Exercise 10.3"
   ]
  },
  {
   "cell_type": "markdown",
   "metadata": {},
   "source": [
    "Print a line of all the capital letters \"A\" to \"Z\". Below it, print a line of the letters that are 13 positions in the alphabet away from the letters that are above them. E.g., below the \"A\" you print an \"N\", below the \"B\" you print an \"O\", etcetera. You have to consider the alphabet to be circular, i.e., after the \"Z\", it loops back to the \"A\" again."
   ]
  },
  {
   "cell_type": "code",
   "execution_count": 141,
   "metadata": {
    "tags": []
   },
   "outputs": [
    {
     "name": "stdout",
     "output_type": "stream",
     "text": [
      "A B C D E F G H I J K L M N O P Q R S T U V W X Y Z \n",
      "N O P Q R S T U V W X Y Z A B C D E F G H I J K L M \n"
     ]
    }
   ],
   "source": [
    "# ROTR-13.\n",
    "display = ''\n",
    "for i in range(ord('A'), ord('Z') + 1):\n",
    "    display += chr(i) + ' '\n",
    "print(display)\n",
    "display = ''\n",
    "for i in range(ord('A'), ord('Z') + 1):\n",
    "    if i <= (ord('M')):\n",
    "        letter = chr(i + 13)\n",
    "    else:\n",
    "        letter = chr(i - 13)\n",
    "    display += letter + ' '\n",
    "print(display)"
   ]
  },
  {
   "cell_type": "markdown",
   "metadata": {},
   "source": [
    "### Exercise 10.4"
   ]
  },
  {
   "cell_type": "markdown",
   "metadata": {},
   "source": [
    "In the text below, count how often the word \"wood\" occurs (using program code, of course). Capitals and lower case letters may both be used, and you have to consider that the word \"wood\" should be a separate word, and not part of another word. Hint: If you did the exercises from this chapter, you already developed a function that \"cleans\" a text. Combining that function with the `split()` function more or less solves the problem for you."
   ]
  },
  {
   "cell_type": "code",
   "execution_count": 153,
   "metadata": {
    "tags": []
   },
   "outputs": [
    {
     "name": "stdout",
     "output_type": "stream",
     "text": [
      "The word 'wood' occurs 3 times.\n"
     ]
    }
   ],
   "source": [
    "# Counting wood.\n",
    "text = \"\"\"How much wood would a woodchuck chuck\n",
    "If a woodchuck could chuck wood?\n",
    "He would chuck, he would, as much as he could,\n",
    "And chuck as much as a woodchuck would\n",
    "If a woodchuck could chuck wood.\"\"\"\n",
    "#initialise newtext variable\n",
    "newtext = ''\n",
    "# Clean.\n",
    "banned = [',','?','!','.','\\'',':','\\\"'] #List of banned characters\n",
    "for char in text:\n",
    "    if char not in banned:\n",
    "        newtext += char\n",
    "# split into list of words\n",
    "splitted = newtext.split()\n",
    "# initialise count\n",
    "count = 0\n",
    "\n",
    "for word in splitted:\n",
    "    if word == 'wood' or word == 'Wood':\n",
    "        count += 1\n",
    "print(f\"The word 'wood' occurs {count} times.\")\n"
   ]
  },
  {
   "cell_type": "markdown",
   "metadata": {
    "tags": []
   },
   "source": [
    "### Exercise 10.5"
   ]
  },
  {
   "cell_type": "markdown",
   "metadata": {},
   "source": [
    "Write a program that takes a string and produces a new string that contains the exact characters that the first string contains, but in order of their ASCII-codes. For instance, the string \"Hello, world!\" should be turned into \" !,Hdellloorw\". This is relatively easy to do with list functions, which will be introduced in a future chapter, but for now try to do it with string manipulation functions alone."
   ]
  },
  {
   "cell_type": "code",
   "execution_count": 161,
   "metadata": {
    "tags": []
   },
   "outputs": [
    {
     "name": "stdout",
     "output_type": "stream",
     "text": [
      " !,Hdellloorw\n"
     ]
    }
   ],
   "source": [
    "# String sorting.\n",
    "text = \"Hello, world!\"\n",
    "sortedText = \"\"\n",
    "for code in range(0,126):\n",
    "    for char in text:\n",
    "        if ord(char) == code:\n",
    "            sortedText += char\n",
    "\n",
    "print(sortedText)            "
   ]
  },
  {
   "cell_type": "markdown",
   "metadata": {},
   "source": [
    "### Exercise 10.6"
   ]
  },
  {
   "cell_type": "markdown",
   "metadata": {},
   "source": [
    "Typical autocorrect functions are the following: (1) if a word starts with two capitals, followed by a lower-case letter, the second capital is made lower case; (2) if a sentence contains a word that is immediately followed by the same word, the second occurrence is removed; (3) if a sentence starts with a lower-case letter, that letter is turned into a capital; (4) if a word consists entirely of capitals, except for the first letter which is lower case, then the case of the letters in the word is reversed; and (5) if the sentence contains the name of a day (in English) which does not start with a capital, the first letter is turned into a capital. Write a program that takes a sentence and makes these auto-corrections."
   ]
  },
  {
   "cell_type": "code",
   "execution_count": 240,
   "metadata": {
    "tags": []
   },
   "outputs": [
    {
     "name": "stdout",
     "output_type": "stream",
     "text": [
      "As it turned out our chance meeting with Reverend Arthur Belling was to change our whole way of life, and every Sunday we'd hurry along to St Loony up the Cream Bun and Jam.\n"
     ]
    }
   ],
   "source": [
    "# Autocorrect.\n",
    "Days = ['Monday','Tuesday','Wednesday','Thursday','Friday','Saturday','Sunday']\n",
    "days = ['monday','tuesday','wednesday','thursday','friday','saturday','sunday']\n",
    "\n",
    "def autocorrect(sentence):\n",
    "    splitSentence = sentence.split()\n",
    "    prev_word = ''\n",
    "    #Capitalise  first letter\n",
    "    if ord(splitSentence[0][0]) >=97  and ord(splitSentence[0][0]) <= 122:\n",
    "        splitSentence[0] = chr(ord(splitSentence[0][0]) - 32) + splitSentence[0][1:]\n",
    "    #Create counter\n",
    "    i=0\n",
    "    for word in splitSentence:\n",
    "        #Check for lowercase day\n",
    "        for n in range(7):\n",
    "            if word == days[n]:\n",
    "                splitSentence[i] = Days[n]\n",
    "        #check for double words\n",
    "        if word == prev_word:\n",
    "            splitSentence.remove(word)\n",
    "        prev_word = word\n",
    "        #check for uppercase on seccond letter\n",
    "        if(65 <= ord(word[1]) <= 90):\n",
    "            word = word.lower()\n",
    "            corrected_word = chr(ord(word[0]) - 32) + word[1:]\n",
    "            splitSentence[i] = corrected_word\n",
    "        i+= 1\n",
    "    # Join the corrected sentence back together\n",
    "    new_text = (' ').join(splitSentence)\n",
    "    print(new_text)\n",
    "\n",
    "def main():\n",
    "    sentence = \"as it turned out our chance meeting with REverend aRTHUR BElling was \\\n",
    "was to change our whole way of life, and every sunday we'd hurry along to St lOONY up the Cream BUn and Jam.\"\n",
    "\n",
    "    autocorrect(sentence)\n",
    "    \n",
    "if __name__ == '__main__':\n",
    "    main()"
   ]
  },
  {
   "cell_type": "markdown",
   "metadata": {},
   "source": [
    "---"
   ]
  },
  {
   "cell_type": "markdown",
   "metadata": {},
   "source": [
    "## Python 2"
   ]
  },
  {
   "cell_type": "markdown",
   "metadata": {},
   "source": [
    "In Python 2, the string manipulation methods listed above were part of the `string` module, and were generally called by importing the module and then writing `string.<method>()`. Such calls are no longer supported by Python 3.\n",
    "\n",
    "Python 2 was not yet supporting Unicode natively, while Python 3 does. Python 3 strings are Unicode strings. You will not notice the difference as long as strings are ASCII, but Python 2 strings might get into troubles when Unicode characters are inserted into the strings. Python 3 also supports Unicode characters in identifiers such as variable names, while Python 2 does not. It is not recommended that you do use non-ASCII characters in identifiers, though."
   ]
  },
  {
   "cell_type": "markdown",
   "metadata": {},
   "source": [
    "---"
   ]
  },
  {
   "cell_type": "markdown",
   "metadata": {},
   "source": [
    "End of Chapter 10. Version 2.0."
   ]
  }
 ],
 "metadata": {
  "kernelspec": {
   "display_name": "Python 3 (ipykernel)",
   "language": "python",
   "name": "python3"
  },
  "language_info": {
   "codemirror_mode": {
    "name": "ipython",
    "version": 3
   },
   "file_extension": ".py",
   "mimetype": "text/x-python",
   "name": "python",
   "nbconvert_exporter": "python",
   "pygments_lexer": "ipython3",
   "version": "3.9.7"
  }
 },
 "nbformat": 4,
 "nbformat_minor": 4
}
