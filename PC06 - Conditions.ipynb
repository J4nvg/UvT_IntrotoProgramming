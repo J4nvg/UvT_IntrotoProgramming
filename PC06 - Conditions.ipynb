{
 "cells": [
  {
   "cell_type": "markdown",
   "metadata": {},
   "source": [
    "# Chapter 6 - Conditions"
   ]
  },
  {
   "cell_type": "markdown",
   "metadata": {},
   "source": [
    "## What you learned"
   ]
  },
  {
   "cell_type": "markdown",
   "metadata": {},
   "source": [
    "In this chapter, you learned about:\n",
    "\n",
    "- What boolean expressions are\n",
    "- Boolean values `True` and `False`\n",
    "- Comparisons with `<`, `<=`, `==`, `>`, `>=`, and `!=`\n",
    "- The `in` operator\n",
    "- Logical operators `and`, `or`, and `not`\n",
    "- Conditional statements using `if`, `elif`, and `else`\n",
    "- Code blocks\n",
    "- Indentation\n",
    "- Nested conditions\n",
    "- Using `exit()`\n",
    "- Case matching"
   ]
  },
  {
   "cell_type": "markdown",
   "metadata": {},
   "source": [
    "---------"
   ]
  },
  {
   "cell_type": "markdown",
   "metadata": {},
   "source": [
    "## Exercises"
   ]
  },
  {
   "cell_type": "markdown",
   "metadata": {},
   "source": [
    "### Exercise 6.1"
   ]
  },
  {
   "cell_type": "markdown",
   "metadata": {},
   "source": [
    "Grades are values between zero and 10 (both zero and 10 included), and are always rounded to the nearest half point. To translate grades to the American style, 8.5 to 10 become an \"A\", 7.5 and 8 become a \"B\", 6.5 and 7 become a \"C\", 5.5 and 6 become a \"D\", and other grades become an \"F\". Implement this translation, whereby you ask the user for a grade, and then give the American translation. If the user enters a grade lower than zero or higher than 10, just give an error message. You do not need to handle the user entering grades that do not end in `.0` or `.5`, though you may do that if you like -- in that case, if the user enters such an illegal grade, give an appropriate error message. "
   ]
  },
  {
   "cell_type": "code",
   "execution_count": 16,
   "metadata": {
    "tags": []
   },
   "outputs": [
    {
     "name": "stdin",
     "output_type": "stream",
     "text": [
      "Enter the score:  10\n"
     ]
    },
    {
     "name": "stdout",
     "output_type": "stream",
     "text": [
      "A\n"
     ]
    }
   ],
   "source": [
    "# Grading system.\n",
    "from pcinput import getFloat\n",
    "score = float(input(\"Enter the score: \"))\n",
    "\n",
    "\"\"\"\n",
    "Python < 3.1\n",
    "if score <0 or score > 10:\n",
    "    print(\"Error, enter number lower then 10 or higher then 0\")\n",
    "elif score >= 8.5:\n",
    "    print(\"A\")\n",
    "elif score >= 8:\n",
    "    print(\"B\")\n",
    "elif score >= 6.5:\n",
    "    print(\"C\")\n",
    "elif score >= 5.5:\n",
    "    print(\"D\")\n",
    "elif score < 5.5:\n",
    "    print(\"F\")\n",
    "\n",
    "\n",
    "\n",
    "Python >3.1:\n",
    "\"\"\"\n",
    "match (score):\n",
    "    case _ if score < 0 or score > 10:\n",
    "        print(\"Error, enter a number between 0 and 10\")\n",
    "    case _ if score >= 8.5:\n",
    "        print(\"A\")\n",
    "    case _ if score >= 8:\n",
    "        print(\"B\")\n",
    "    case _ if score >= 6.5:\n",
    "        print(\"C\")\n",
    "    case _ if score >= 5.5:\n",
    "        print(\"D\")\n",
    "    case _:\n",
    "        print(\"F\")\n",
    "\n",
    "\n",
    "\n",
    "\n",
    "\n",
    "\n"
   ]
  },
  {
   "cell_type": "markdown",
   "metadata": {},
   "source": [
    "### Exercise 6.2"
   ]
  },
  {
   "cell_type": "markdown",
   "metadata": {},
   "source": [
    "Can you spot the reasoning error in the following code?"
   ]
  },
  {
   "cell_type": "code",
   "execution_count": 17,
   "metadata": {
    "tags": []
   },
   "outputs": [
    {
     "name": "stdout",
     "output_type": "stream",
     "text": [
      "A\n"
     ]
    }
   ],
   "source": [
    "score = 98.0\n",
    "if score >= 90.0:\n",
    "    grade = 'A'\n",
    "elif score >= 80.0:\n",
    "    grade = 'B'\n",
    "elif score >= 70.0:\n",
    "    grade = 'C'\n",
    "elif score >= 60.0:\n",
    "    grade = 'D'\n",
    "else:\n",
    "    grade = 'F'\n",
    "print( grade )"
   ]
  },
  {
   "cell_type": "markdown",
   "metadata": {},
   "source": [
    "### Exercise 6.3"
   ]
  },
  {
   "cell_type": "markdown",
   "metadata": {},
   "source": [
    "Ask the user to supply a string. Print how many *different* vowels there are in the string. The capital version of a lower case vowel is considered to be the same vowel. `y` is not considered a vowel. Try to print nice output (e.g., printing \"There are 1 different vowels in the string\" is ugly). Example: When the user enters the string \"Michael Palin\", the program should say that there are 3 different vowels in the string."
   ]
  },
  {
   "cell_type": "code",
   "execution_count": 18,
   "metadata": {
    "tags": []
   },
   "outputs": [
    {
     "name": "stdin",
     "output_type": "stream",
     "text": [
      "Enter the string:  Kaas\n"
     ]
    },
    {
     "name": "stdout",
     "output_type": "stream",
     "text": [
      "There is 1 different vowel in the string\n"
     ]
    }
   ],
   "source": [
    "# Different vowels.\n",
    "N = 0\n",
    "string = input(str(\"Enter the string: \"))\n",
    "if (\"a\" in string):\n",
    "    N += 1\n",
    "if (\"e\" in string):\n",
    "    N += 1\n",
    "if (\"o\" in string):\n",
    "    N += 1\n",
    "if (\"u\" in string):\n",
    "    N += 1\n",
    "if (\"i\" in string):\n",
    "    N += 1\n",
    "if N > 1:\n",
    "    print(\"There are \" + str(N) + \" different vowels in the string\" )\n",
    "if N == 1:\n",
    "     print(\"There is \" + str(N) + \" different vowel in the string\" )\n",
    "if N < 1:\n",
    "     print(\"There are no vowels in the string\" )\n",
    "    \n"
   ]
  },
  {
   "cell_type": "markdown",
   "metadata": {},
   "source": [
    "### Exercise 6.4"
   ]
  },
  {
   "cell_type": "markdown",
   "metadata": {},
   "source": [
    "You can solve quadratic equations using the quadratic formula. Quadratic equations are of the form `A*x*x + B*x + C = 0`. Such equations have zero, one or two solutions. The first solution is `(-B + sqrt( B*B - 4*A*C )) / (2*A)`. The second solution is `(-B - sqrt( B*B - 4*A*C )) / (2*A)`. There are no solutions if the value under the square root is negative. There is one solution if the value under the square root is zero. Write a program that asks the user for the values of `A`, `B`, and `C`, then reports whether there are zero, one, or two solutions, then prints those solutions. Note: Make sure that you also take into account the case that `A` is zero, and the case that both `A` and `B` are zero.\n",
    "\n",
    "Hint: To determine whether there are zero, one, or two solutions, first calculate `B*B - 4*A*C`. If that is less than zero, there are no solutions (as you cannot take the square root of a negative number). If it is zero, there is only one solution (namely `-B / (2*A)`, as the part with the square root is zero). Otherwise, there are two solutions, as listed."
   ]
  },
  {
   "cell_type": "code",
   "execution_count": 21,
   "metadata": {
    "tags": []
   },
   "outputs": [
    {
     "name": "stdin",
     "output_type": "stream",
     "text": [
      "Enter the value for A:  1\n",
      "Enter the value for B:  -2\n",
      "Enter the value for C:  1\n"
     ]
    },
    {
     "name": "stdout",
     "output_type": "stream",
     "text": [
      "The solution for x is: 1.0\n"
     ]
    }
   ],
   "source": [
    "# Solving quadratic equations.\n",
    "from math import sqrt\n",
    "from pcinput import getInteger\n",
    "a = getInteger(\"Enter the value for A: \")\n",
    "b = getInteger(\"Enter the value for B: \")\n",
    "c = getInteger(\"Enter the value for C: \")\n",
    "d = b*b - 4*a*c\n",
    "\"\"\"\n",
    "# for python >= 3.1\n",
    "match (d):\n",
    "    case _ if d < 0:\n",
    "        print(\"There are no solutions for x\")\n",
    "    case _ if d == 0:\n",
    "        x = -b / (2*a)\n",
    "        print(\"The solution for x is: \" + str(x))\n",
    "    case _ if d > 0:\n",
    "        x1 = (-b + sqrt(b*b - 4*a*c))/(2*a)\n",
    "        x2 = (-b - sqrt(b*b - 4*a*c))/(2*a)\n",
    "        print(\"The solution for x1 is: \" + str(x1) + \"\\nThe solution for x2 is: \" + str(x2) )\n",
    "        \n",
    "# For python < 3.1 \n",
    "\"\"\"\n",
    "if d < 0:\n",
    "    print(\"There are no solutions for x\")\n",
    "elif d == 0:\n",
    "    x = -b / (2*a)\n",
    "    print(\"The solution for x is: \" + str(x))\n",
    "if d > 0:\n",
    "    x1 = (-b + sqrt(b*b - 4*a*c))/(2*a)\n",
    "    x2 = (-b - sqrt(b*b - 4*a*c))/(2*a)\n",
    "    print(\"The solution for x1 is: \" + str(x1) + \"\\nThe solution for x2 is: \" + str(x2) )"
   ]
  },
  {
   "cell_type": "markdown",
   "metadata": {},
   "source": [
    "---"
   ]
  },
  {
   "cell_type": "markdown",
   "metadata": {},
   "source": [
    "End of Chapter 6. Version 2.0."
   ]
  }
 ],
 "metadata": {
  "kernelspec": {
   "display_name": "Python 3 (ipykernel)",
   "language": "python",
   "name": "python3"
  },
  "language_info": {
   "codemirror_mode": {
    "name": "ipython",
    "version": 3
   },
   "file_extension": ".py",
   "mimetype": "text/x-python",
   "name": "python",
   "nbconvert_exporter": "python",
   "pygments_lexer": "ipython3",
   "version": "3.11.4"
  }
 },
 "nbformat": 4,
 "nbformat_minor": 4
}
