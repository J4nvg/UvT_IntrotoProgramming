{
 "cells": [
  {
   "cell_type": "markdown",
   "metadata": {},
   "source": [
    "# 13 - Dictionaries"
   ]
  },
  {
   "cell_type": "markdown",
   "metadata": {},
   "source": [
    "## What you learned:"
   ]
  },
  {
   "cell_type": "markdown",
   "metadata": {},
   "source": [
    "In this chapter, you learned about:\n",
    "\n",
    "- Dictionaries\n",
    "- Dictionary keys and values\n",
    "- Merging dictionaries\n",
    "- Type hints for dictionaries\n",
    "- Dictionary methods `copy()`, `keys()`, `values()`, `items()`, and `get()`\n",
    "- Complicated dictionaries\n",
    "- Speed differences between lists and dictionaries"
   ]
  },
  {
   "cell_type": "markdown",
   "metadata": {},
   "source": [
    "---"
   ]
  },
  {
   "cell_type": "markdown",
   "metadata": {},
   "source": [
    "## Excercises"
   ]
  },
  {
   "cell_type": "markdown",
   "metadata": {},
   "source": [
    "### Exercise 13.1"
   ]
  },
  {
   "cell_type": "markdown",
   "metadata": {},
   "source": [
    "Write a program that takes the text in the code block, splits it into words (where everything that is not a letter is considered a word boundary), and case-insensitively builds a dictionary that stores for every word how often it occurs in the text. Then print all the words with their quantities in alphabetical order."
   ]
  },
  {
   "cell_type": "code",
   "execution_count": 39,
   "metadata": {
    "tags": []
   },
   "outputs": [
    {
     "name": "stdout",
     "output_type": "stream",
     "text": [
      "The word a appears 4 times\n",
      "The word and appears 1 times\n",
      "The word as appears 4 times\n",
      "The word chuck appears 5 times\n",
      "The word could appears 3 times\n",
      "The word he appears 3 times\n",
      "The word how appears 1 times\n",
      "The word if appears 2 times\n",
      "The word much appears 3 times\n",
      "The word wood appears 3 times\n",
      "The word woodchuck appears 4 times\n",
      "The word would appears 4 times\n"
     ]
    }
   ],
   "source": [
    "# Word counting.\n",
    "text = \"\"\"How much wood would a woodchuck chuck\n",
    "If a woodchuck could chuck wood?\n",
    "He would chuck, he would, as much as he could,\n",
    "And chuck as much as a woodchuck would\n",
    "If a woodchuck could chuck wood.\"\"\"\n",
    "nlist = text.replace(\"\\n\",\" \").replace(\",\",\"\").replace(\".\",\"\").replace(\"?\",\"\").replace(\"!\",\"\").strip().lower().split(\" \")\n",
    "nlist.sort()\n",
    "ndict = {}\n",
    "for word in nlist:\n",
    "    ndict[word] = ndict.get(word,0) + 1\n",
    "for key,count in ndict.items():\n",
    "    print(f\"The word {key} appears {count} times\")"
   ]
  },
  {
   "cell_type": "markdown",
   "metadata": {},
   "source": [
    "### Exercise 13.2"
   ]
  },
  {
   "cell_type": "markdown",
   "metadata": {},
   "source": [
    "The code block below shows a list of movies. For each movie it also shows a list of ratings. Convert this code in such a way that it stores all this data in one dictionary, then use the dictionary to print the average rating for each movie, rounded to one decimal."
   ]
  },
  {
   "cell_type": "code",
   "execution_count": 49,
   "metadata": {
    "tags": []
   },
   "outputs": [
    {
     "name": "stdout",
     "output_type": "stream",
     "text": [
      "Monty Python and the Holy Grail , 7.9\n",
      "Monty Python's Life of Brian , 6.8\n",
      "Monty Python's Meaning of Life , 6.0\n",
      "And Now For Something Completely Different , 5.8\n"
     ]
    }
   ],
   "source": [
    "# Movie ratings.\n",
    "movies = [\"Monty Python and the Holy Grail\", \n",
    "          \"Monty Python's Life of Brian\",\n",
    "          \"Monty Python's Meaning of Life\",\n",
    "          \"And Now For Something Completely Different\"]\n",
    "def mean(a):\n",
    "    return(round(sum(a)/ len(a),1))\n",
    "\n",
    "grail_ratings = [ 9, 10, 9.5, 8.5, 3, 7.5,8 ]\n",
    "brian_ratings = [ 10, 10, 0, 9, 1, 8, 7.5, 8, 6, 9 ]\n",
    "life_ratings = [ 7, 6, 5 ]\n",
    "different_ratings = [ 6, 5, 6, 6 ]\n",
    "AVGratings = [mean(grail_ratings),mean(brian_ratings),mean(life_ratings),mean(different_ratings)]\n",
    "rlib = {}\n",
    "count = 0\n",
    "for movie in movies:\n",
    "    rlib[movie] = rlib.get(movie,AVGratings[count])\n",
    "    count += 1\n",
    "for movie, rating in rlib.items():\n",
    "    print(f\"{movie} , {rating}\")\n"
   ]
  },
  {
   "cell_type": "markdown",
   "metadata": {},
   "source": [
    "### Exercise 13.3"
   ]
  },
  {
   "cell_type": "markdown",
   "metadata": {},
   "source": [
    "A library contains books. Books have a writer, identified by last name and first name. Books also have a title. Books also have a location number that identifies where they can be found in the library. Librarians want to be able to locate a specific book if they know writer and title, and they want to be able to list all the books that they have of a specific writer. What data structure would you use to store the books? "
   ]
  },
  {
   "cell_type": "markdown",
   "metadata": {},
   "source": [
    "---"
   ]
  },
  {
   "cell_type": "markdown",
   "metadata": {},
   "source": [
    "## Python 2"
   ]
  },
  {
   "cell_type": "markdown",
   "metadata": {},
   "source": [
    "In Python 2, the methods `keys()`, `values()`, and `items()` return lists instead of iterators.\n",
    "\n",
    "Python 2 also supports a method `has_key()` that you can use to check if a certain key is in a dictionary, but this method has been removed from Python 3."
   ]
  },
  {
   "cell_type": "markdown",
   "metadata": {},
   "source": [
    "---"
   ]
  },
  {
   "cell_type": "markdown",
   "metadata": {},
   "source": [
    "End of Chapter 13. Version 2.0. "
   ]
  }
 ],
 "metadata": {
  "kernelspec": {
   "display_name": "Python 3 (ipykernel)",
   "language": "python",
   "name": "python3"
  },
  "language_info": {
   "codemirror_mode": {
    "name": "ipython",
    "version": 3
   },
   "file_extension": ".py",
   "mimetype": "text/x-python",
   "name": "python",
   "nbconvert_exporter": "python",
   "pygments_lexer": "ipython3",
   "version": "3.11.4"
  }
 },
 "nbformat": 4,
 "nbformat_minor": 4
}
